{
 "cells": [
  {
   "cell_type": "markdown",
   "metadata": {},
   "source": [
    "# **Introduction**\n"
   ]
  },
  {
   "cell_type": "markdown",
   "metadata": {},
   "source": [
    "This project focused on data wrangling from the WeRateDogs Twitter account using Python, documented in a Jupyter Notebook (wrangle_act.ipynb). WeRateDogs is a Twitter account that rates people's dog with humorous comment about the dog. The rating denominator is usually 10, however, the numerators are usually greater than 10 (max 15). WeRateDogs has over 4 million followers and has received international media coverage.\n",
    "\n",
    "The goal of this project is to wrangle WeRateDogs Twitter data to create interesting and trustworthy analyses and visualizations. Twitter archive is great, but it only contains basic tweet, not everything. Additional data from Twitter API is imported  that comes in JSON format for further investigation."
   ]
  },
  {
   "cell_type": "markdown",
   "metadata": {},
   "source": [
    "**Gathering Data**"
   ]
  },
  {
   "cell_type": "code",
   "execution_count": 1,
   "metadata": {},
   "outputs": [],
   "source": [
    "#import necessary libraries\n",
    "import matplotlib.pyplot as plt\n",
    "import numpy as np\n",
    "import pandas as pd\n",
    "import seaborn as sns\n",
    "import requests\n",
    "import json\n",
    "import tweepy\n",
    "import time\n"
   ]
  },
  {
   "cell_type": "code",
   "execution_count": 2,
   "metadata": {},
   "outputs": [
    {
     "data": {
      "text/html": [
       "<div>\n",
       "<style scoped>\n",
       "    .dataframe tbody tr th:only-of-type {\n",
       "        vertical-align: middle;\n",
       "    }\n",
       "\n",
       "    .dataframe tbody tr th {\n",
       "        vertical-align: top;\n",
       "    }\n",
       "\n",
       "    .dataframe thead th {\n",
       "        text-align: right;\n",
       "    }\n",
       "</style>\n",
       "<table border=\"1\" class=\"dataframe\">\n",
       "  <thead>\n",
       "    <tr style=\"text-align: right;\">\n",
       "      <th></th>\n",
       "      <th>tweet_id</th>\n",
       "      <th>in_reply_to_status_id</th>\n",
       "      <th>in_reply_to_user_id</th>\n",
       "      <th>timestamp</th>\n",
       "      <th>source</th>\n",
       "      <th>text</th>\n",
       "      <th>retweeted_status_id</th>\n",
       "      <th>retweeted_status_user_id</th>\n",
       "      <th>retweeted_status_timestamp</th>\n",
       "      <th>expanded_urls</th>\n",
       "      <th>rating_numerator</th>\n",
       "      <th>rating_denominator</th>\n",
       "      <th>name</th>\n",
       "      <th>doggo</th>\n",
       "      <th>floofer</th>\n",
       "      <th>pupper</th>\n",
       "      <th>puppo</th>\n",
       "    </tr>\n",
       "  </thead>\n",
       "  <tbody>\n",
       "    <tr>\n",
       "      <th>0</th>\n",
       "      <td>892420643555336193</td>\n",
       "      <td>NaN</td>\n",
       "      <td>NaN</td>\n",
       "      <td>2017-08-01 16:23:56 +0000</td>\n",
       "      <td>&lt;a href=\"http://twitter.com/download/iphone\" r...</td>\n",
       "      <td>This is Phineas. He's a mystical boy. Only eve...</td>\n",
       "      <td>NaN</td>\n",
       "      <td>NaN</td>\n",
       "      <td>NaN</td>\n",
       "      <td>https://twitter.com/dog_rates/status/892420643...</td>\n",
       "      <td>13</td>\n",
       "      <td>10</td>\n",
       "      <td>Phineas</td>\n",
       "      <td>None</td>\n",
       "      <td>None</td>\n",
       "      <td>None</td>\n",
       "      <td>None</td>\n",
       "    </tr>\n",
       "    <tr>\n",
       "      <th>1</th>\n",
       "      <td>892177421306343426</td>\n",
       "      <td>NaN</td>\n",
       "      <td>NaN</td>\n",
       "      <td>2017-08-01 00:17:27 +0000</td>\n",
       "      <td>&lt;a href=\"http://twitter.com/download/iphone\" r...</td>\n",
       "      <td>This is Tilly. She's just checking pup on you....</td>\n",
       "      <td>NaN</td>\n",
       "      <td>NaN</td>\n",
       "      <td>NaN</td>\n",
       "      <td>https://twitter.com/dog_rates/status/892177421...</td>\n",
       "      <td>13</td>\n",
       "      <td>10</td>\n",
       "      <td>Tilly</td>\n",
       "      <td>None</td>\n",
       "      <td>None</td>\n",
       "      <td>None</td>\n",
       "      <td>None</td>\n",
       "    </tr>\n",
       "  </tbody>\n",
       "</table>\n",
       "</div>"
      ],
      "text/plain": [
       "             tweet_id  in_reply_to_status_id  in_reply_to_user_id  \\\n",
       "0  892420643555336193                    NaN                  NaN   \n",
       "1  892177421306343426                    NaN                  NaN   \n",
       "\n",
       "                   timestamp  \\\n",
       "0  2017-08-01 16:23:56 +0000   \n",
       "1  2017-08-01 00:17:27 +0000   \n",
       "\n",
       "                                              source  \\\n",
       "0  <a href=\"http://twitter.com/download/iphone\" r...   \n",
       "1  <a href=\"http://twitter.com/download/iphone\" r...   \n",
       "\n",
       "                                                text  retweeted_status_id  \\\n",
       "0  This is Phineas. He's a mystical boy. Only eve...                  NaN   \n",
       "1  This is Tilly. She's just checking pup on you....                  NaN   \n",
       "\n",
       "   retweeted_status_user_id retweeted_status_timestamp  \\\n",
       "0                       NaN                        NaN   \n",
       "1                       NaN                        NaN   \n",
       "\n",
       "                                       expanded_urls  rating_numerator  \\\n",
       "0  https://twitter.com/dog_rates/status/892420643...                13   \n",
       "1  https://twitter.com/dog_rates/status/892177421...                13   \n",
       "\n",
       "   rating_denominator     name doggo floofer pupper puppo  \n",
       "0                  10  Phineas  None    None   None  None  \n",
       "1                  10    Tilly  None    None   None  None  "
      ]
     },
     "execution_count": 2,
     "metadata": {},
     "output_type": "execute_result"
    }
   ],
   "source": [
    "#Load twitter-archive data\n",
    "twitter = pd.read_csv('twitter-archive-enhanced.csv')\n",
    "twitter.head(2)"
   ]
  },
  {
   "cell_type": "code",
   "execution_count": 3,
   "metadata": {},
   "outputs": [
    {
     "name": "stdout",
     "output_type": "stream",
     "text": [
      "<class 'pandas.core.frame.DataFrame'>\n",
      "RangeIndex: 2356 entries, 0 to 2355\n",
      "Data columns (total 17 columns):\n",
      " #   Column                      Non-Null Count  Dtype  \n",
      "---  ------                      --------------  -----  \n",
      " 0   tweet_id                    2356 non-null   int64  \n",
      " 1   in_reply_to_status_id       78 non-null     float64\n",
      " 2   in_reply_to_user_id         78 non-null     float64\n",
      " 3   timestamp                   2356 non-null   object \n",
      " 4   source                      2356 non-null   object \n",
      " 5   text                        2356 non-null   object \n",
      " 6   retweeted_status_id         181 non-null    float64\n",
      " 7   retweeted_status_user_id    181 non-null    float64\n",
      " 8   retweeted_status_timestamp  181 non-null    object \n",
      " 9   expanded_urls               2297 non-null   object \n",
      " 10  rating_numerator            2356 non-null   int64  \n",
      " 11  rating_denominator          2356 non-null   int64  \n",
      " 12  name                        2356 non-null   object \n",
      " 13  doggo                       2356 non-null   object \n",
      " 14  floofer                     2356 non-null   object \n",
      " 15  pupper                      2356 non-null   object \n",
      " 16  puppo                       2356 non-null   object \n",
      "dtypes: float64(4), int64(3), object(10)\n",
      "memory usage: 313.0+ KB\n"
     ]
    }
   ],
   "source": [
    "twitter.info()"
   ]
  },
  {
   "cell_type": "code",
   "execution_count": null,
   "metadata": {},
   "outputs": [],
   "source": [
    "#download tweet image prediction file programmatically\n",
    "url = \"https://d17h27t6h515a5.cloudfront.net/topher/2017/August/599fd2ad_image-predictions/image-predictions.tsv\"\n",
    "response = requests.get(url)\n",
    "with open ('image_prediction.tsv','wb') as file:\n",
    "    file.write(response.content)\n"
   ]
  },
  {
   "cell_type": "code",
   "execution_count": 17,
   "metadata": {},
   "outputs": [
    {
     "data": {
      "text/html": [
       "<div>\n",
       "<style scoped>\n",
       "    .dataframe tbody tr th:only-of-type {\n",
       "        vertical-align: middle;\n",
       "    }\n",
       "\n",
       "    .dataframe tbody tr th {\n",
       "        vertical-align: top;\n",
       "    }\n",
       "\n",
       "    .dataframe thead th {\n",
       "        text-align: right;\n",
       "    }\n",
       "</style>\n",
       "<table border=\"1\" class=\"dataframe\">\n",
       "  <thead>\n",
       "    <tr style=\"text-align: right;\">\n",
       "      <th></th>\n",
       "      <th>tweet_id</th>\n",
       "      <th>jpg_url</th>\n",
       "      <th>img_num</th>\n",
       "      <th>p1</th>\n",
       "      <th>p1_conf</th>\n",
       "      <th>p1_dog</th>\n",
       "      <th>p2</th>\n",
       "      <th>p2_conf</th>\n",
       "      <th>p2_dog</th>\n",
       "      <th>p3</th>\n",
       "      <th>p3_conf</th>\n",
       "      <th>p3_dog</th>\n",
       "    </tr>\n",
       "  </thead>\n",
       "  <tbody>\n",
       "    <tr>\n",
       "      <th>0</th>\n",
       "      <td>666020888022790149</td>\n",
       "      <td>https://pbs.twimg.com/media/CT4udn0WwAA0aMy.jpg</td>\n",
       "      <td>1</td>\n",
       "      <td>Welsh_springer_spaniel</td>\n",
       "      <td>0.465074</td>\n",
       "      <td>True</td>\n",
       "      <td>collie</td>\n",
       "      <td>0.156665</td>\n",
       "      <td>True</td>\n",
       "      <td>Shetland_sheepdog</td>\n",
       "      <td>0.061428</td>\n",
       "      <td>True</td>\n",
       "    </tr>\n",
       "    <tr>\n",
       "      <th>1</th>\n",
       "      <td>666029285002620928</td>\n",
       "      <td>https://pbs.twimg.com/media/CT42GRgUYAA5iDo.jpg</td>\n",
       "      <td>1</td>\n",
       "      <td>redbone</td>\n",
       "      <td>0.506826</td>\n",
       "      <td>True</td>\n",
       "      <td>miniature_pinscher</td>\n",
       "      <td>0.074192</td>\n",
       "      <td>True</td>\n",
       "      <td>Rhodesian_ridgeback</td>\n",
       "      <td>0.072010</td>\n",
       "      <td>True</td>\n",
       "    </tr>\n",
       "  </tbody>\n",
       "</table>\n",
       "</div>"
      ],
      "text/plain": [
       "             tweet_id                                          jpg_url  \\\n",
       "0  666020888022790149  https://pbs.twimg.com/media/CT4udn0WwAA0aMy.jpg   \n",
       "1  666029285002620928  https://pbs.twimg.com/media/CT42GRgUYAA5iDo.jpg   \n",
       "\n",
       "   img_num                      p1   p1_conf  p1_dog                  p2  \\\n",
       "0        1  Welsh_springer_spaniel  0.465074    True              collie   \n",
       "1        1                 redbone  0.506826    True  miniature_pinscher   \n",
       "\n",
       "    p2_conf  p2_dog                   p3   p3_conf  p3_dog  \n",
       "0  0.156665    True    Shetland_sheepdog  0.061428    True  \n",
       "1  0.074192    True  Rhodesian_ridgeback  0.072010    True  "
      ]
     },
     "execution_count": 17,
     "metadata": {},
     "output_type": "execute_result"
    }
   ],
   "source": [
    "#load image prediction file\n",
    "img_prediction = pd.read_csv('image_prediction.tsv',sep='\\t')\n",
    "img_prediction.head(2)"
   ]
  },
  {
   "cell_type": "code",
   "execution_count": 11,
   "metadata": {},
   "outputs": [
    {
     "name": "stdout",
     "output_type": "stream",
     "text": [
      "ok\n"
     ]
    }
   ],
   "source": [
    "#Query Twitter Data \n",
    "\n",
    "consumer_key = 'i4nJ7ooKMUOlM4rzLR0TFDl4x'\n",
    "consumer_secret = 'geVoijW1Hc3EdJILXBM3TGI47WeNvSoj2KXwxeKTNn8tJTVYvy'\n",
    "access_token = '1348625443507691522-T80ccR9VvI3Z3xGzN2nULYV2rodY3M'\n",
    "access_secret = 'pGumbQ7V4NPPmNRXelVRcsiTQurgf8Z1T8YtkL2sfe9Nq'\n",
    "\n",
    "auth = tweepy.OAuthHandler(consumer_key, consumer_secret)\n",
    "auth.set_access_token(access_token, access_secret)\n",
    "\n",
    "api = tweepy.API(auth, wait_on_rate_limit=True, parser=tweepy.parsers.JSONParser(),wait_on_rate_limit_notify = True)\n",
    "print('ok')"
   ]
  },
  {
   "cell_type": "code",
   "execution_count": 12,
   "metadata": {},
   "outputs": [
    {
     "name": "stdout",
     "output_type": "stream",
     "text": [
      "888202515573088257\n",
      "873697596434513921\n",
      "872668790621863937\n",
      "872261713294495745\n",
      "869988702071779329\n",
      "866816280283807744\n",
      "861769973181624320\n",
      "856602993587888130\n",
      "851953902622658560\n",
      "845459076796616705\n",
      "844704788403113984\n",
      "842892208864923648\n",
      "837366284874571778\n",
      "837012587749474308\n",
      "829374341691346946\n",
      "827228250799742977\n",
      "812747805718642688\n",
      "802247111496568832\n",
      "779123168116150273\n",
      "775096608509886464\n",
      "771004394259247104\n",
      "770743923962707968\n",
      "759566828574212096\n"
     ]
    },
    {
     "name": "stderr",
     "output_type": "stream",
     "text": [
      "Rate limit reached. Sleeping for: 307\n"
     ]
    },
    {
     "name": "stdout",
     "output_type": "stream",
     "text": [
      "754011816964026368\n",
      "680055455951884288\n"
     ]
    },
    {
     "name": "stderr",
     "output_type": "stream",
     "text": [
      "Rate limit reached. Sleeping for: 353\n"
     ]
    }
   ],
   "source": [
    "tweet_ids = list(twitter['tweet_id'])\n",
    "\n",
    "tweet_data = []\n",
    "tweet_id_success = []\n",
    "tweet_id_missing = []\n",
    "for tweet_id in tweet_ids:\n",
    "    try:\n",
    "        data = api.get_status(tweet_id, \n",
    "                              tweet_mode='extended',\n",
    "                              wait_on_rate_limit = True,\n",
    "                              wait_on_rate_limit_notify = True)\n",
    "        tweet_data.append(data)\n",
    "        tweet_id_success.append(tweet_id)\n",
    "    except:\n",
    "        tweet_id_missing.append(tweet_id)\n",
    "        print(tweet_id)"
   ]
  },
  {
   "cell_type": "code",
   "execution_count": 13,
   "metadata": {},
   "outputs": [],
   "source": [
    "with open('tweet_json.txt', mode = 'w') as file:\n",
    "    json.dump(tweet_data, file)"
   ]
  },
  {
   "cell_type": "code",
   "execution_count": 14,
   "metadata": {},
   "outputs": [
    {
     "data": {
      "text/html": [
       "<div>\n",
       "<style scoped>\n",
       "    .dataframe tbody tr th:only-of-type {\n",
       "        vertical-align: middle;\n",
       "    }\n",
       "\n",
       "    .dataframe tbody tr th {\n",
       "        vertical-align: top;\n",
       "    }\n",
       "\n",
       "    .dataframe thead th {\n",
       "        text-align: right;\n",
       "    }\n",
       "</style>\n",
       "<table border=\"1\" class=\"dataframe\">\n",
       "  <thead>\n",
       "    <tr style=\"text-align: right;\">\n",
       "      <th></th>\n",
       "      <th>tweet_id</th>\n",
       "      <th>favorite_count</th>\n",
       "      <th>retweet_count</th>\n",
       "    </tr>\n",
       "  </thead>\n",
       "  <tbody>\n",
       "    <tr>\n",
       "      <th>0</th>\n",
       "      <td>892420643555336193</td>\n",
       "      <td>35050</td>\n",
       "      <td>7373</td>\n",
       "    </tr>\n",
       "    <tr>\n",
       "      <th>1</th>\n",
       "      <td>892177421306343426</td>\n",
       "      <td>30365</td>\n",
       "      <td>5494</td>\n",
       "    </tr>\n",
       "    <tr>\n",
       "      <th>2</th>\n",
       "      <td>891815181378084864</td>\n",
       "      <td>22823</td>\n",
       "      <td>3632</td>\n",
       "    </tr>\n",
       "    <tr>\n",
       "      <th>3</th>\n",
       "      <td>891689557279858688</td>\n",
       "      <td>38347</td>\n",
       "      <td>7551</td>\n",
       "    </tr>\n",
       "    <tr>\n",
       "      <th>4</th>\n",
       "      <td>891327558926688256</td>\n",
       "      <td>36622</td>\n",
       "      <td>8139</td>\n",
       "    </tr>\n",
       "  </tbody>\n",
       "</table>\n",
       "</div>"
      ],
      "text/plain": [
       "             tweet_id  favorite_count  retweet_count\n",
       "0  892420643555336193           35050           7373\n",
       "1  892177421306343426           30365           5494\n",
       "2  891815181378084864           22823           3632\n",
       "3  891689557279858688           38347           7551\n",
       "4  891327558926688256           36622           8139"
      ]
     },
     "execution_count": 14,
     "metadata": {},
     "output_type": "execute_result"
    }
   ],
   "source": [
    "tweet_json = pd.read_json('tweet_json.txt')\n",
    "tweet_json['tweet_id'] = tweet_id_success\n",
    "tweet_json = tweet_json[['tweet_id', 'favorite_count', 'retweet_count']]\n",
    "\n",
    "tweet_json.head()"
   ]
  },
  {
   "cell_type": "markdown",
   "metadata": {},
   "source": [
    "These data has now been loaded into the following dataframes:\n",
    "\n",
    "- twitter: (twitter-archive-enhanced.csv)\n",
    "contains basic tweet data about 2356 of their tweets \n",
    "- img_prediction: (image_prediction.tsv)\n",
    "contains the prediction result throuh neural network that classify breeds of dogs.The results: a table full of image predictions (the top three only) alongside each tweet ID, image URL, and the image number that corresponded to the most confident prediction (numbered 1 to 4 since tweets can have up to four images).\n",
    "- tweet_json: Additional data about the WeRateDogs tweets gathered via Twitter API."
   ]
  },
  {
   "cell_type": "markdown",
   "metadata": {},
   "source": [
    "# Assessing Data"
   ]
  },
  {
   "cell_type": "code",
   "execution_count": 15,
   "metadata": {},
   "outputs": [
    {
     "name": "stdout",
     "output_type": "stream",
     "text": [
      "<class 'pandas.core.frame.DataFrame'>\n",
      "RangeIndex: 2356 entries, 0 to 2355\n",
      "Data columns (total 17 columns):\n",
      " #   Column                      Non-Null Count  Dtype  \n",
      "---  ------                      --------------  -----  \n",
      " 0   tweet_id                    2356 non-null   int64  \n",
      " 1   in_reply_to_status_id       78 non-null     float64\n",
      " 2   in_reply_to_user_id         78 non-null     float64\n",
      " 3   timestamp                   2356 non-null   object \n",
      " 4   source                      2356 non-null   object \n",
      " 5   text                        2356 non-null   object \n",
      " 6   retweeted_status_id         181 non-null    float64\n",
      " 7   retweeted_status_user_id    181 non-null    float64\n",
      " 8   retweeted_status_timestamp  181 non-null    object \n",
      " 9   expanded_urls               2297 non-null   object \n",
      " 10  rating_numerator            2356 non-null   int64  \n",
      " 11  rating_denominator          2356 non-null   int64  \n",
      " 12  name                        2356 non-null   object \n",
      " 13  doggo                       2356 non-null   object \n",
      " 14  floofer                     2356 non-null   object \n",
      " 15  pupper                      2356 non-null   object \n",
      " 16  puppo                       2356 non-null   object \n",
      "dtypes: float64(4), int64(3), object(10)\n",
      "memory usage: 313.0+ KB\n"
     ]
    }
   ],
   "source": [
    "twitter.info()"
   ]
  },
  {
   "cell_type": "code",
   "execution_count": 10,
   "metadata": {},
   "outputs": [
    {
     "data": {
      "text/html": [
       "<div>\n",
       "<style scoped>\n",
       "    .dataframe tbody tr th:only-of-type {\n",
       "        vertical-align: middle;\n",
       "    }\n",
       "\n",
       "    .dataframe tbody tr th {\n",
       "        vertical-align: top;\n",
       "    }\n",
       "\n",
       "    .dataframe thead th {\n",
       "        text-align: right;\n",
       "    }\n",
       "</style>\n",
       "<table border=\"1\" class=\"dataframe\">\n",
       "  <thead>\n",
       "    <tr style=\"text-align: right;\">\n",
       "      <th></th>\n",
       "      <th>tweet_id</th>\n",
       "      <th>in_reply_to_status_id</th>\n",
       "      <th>in_reply_to_user_id</th>\n",
       "      <th>timestamp</th>\n",
       "      <th>source</th>\n",
       "      <th>text</th>\n",
       "      <th>retweeted_status_id</th>\n",
       "      <th>retweeted_status_user_id</th>\n",
       "      <th>retweeted_status_timestamp</th>\n",
       "      <th>expanded_urls</th>\n",
       "      <th>rating_numerator</th>\n",
       "      <th>rating_denominator</th>\n",
       "      <th>name</th>\n",
       "      <th>doggo</th>\n",
       "      <th>floofer</th>\n",
       "      <th>pupper</th>\n",
       "      <th>puppo</th>\n",
       "    </tr>\n",
       "  </thead>\n",
       "  <tbody>\n",
       "    <tr>\n",
       "      <th>1558</th>\n",
       "      <td>688789766343622656</td>\n",
       "      <td>NaN</td>\n",
       "      <td>NaN</td>\n",
       "      <td>2016-01-17 18:27:32 +0000</td>\n",
       "      <td>&lt;a href=\"http://twitter.com/download/iphone\" r...</td>\n",
       "      <td>Meet Pubert. He's a Kerplunk Rumplestilt. Cann...</td>\n",
       "      <td>NaN</td>\n",
       "      <td>NaN</td>\n",
       "      <td>NaN</td>\n",
       "      <td>https://twitter.com/dog_rates/status/688789766...</td>\n",
       "      <td>8</td>\n",
       "      <td>10</td>\n",
       "      <td>Pubert</td>\n",
       "      <td>None</td>\n",
       "      <td>None</td>\n",
       "      <td>None</td>\n",
       "      <td>None</td>\n",
       "    </tr>\n",
       "    <tr>\n",
       "      <th>76</th>\n",
       "      <td>878057613040115712</td>\n",
       "      <td>NaN</td>\n",
       "      <td>NaN</td>\n",
       "      <td>2017-06-23 01:10:23 +0000</td>\n",
       "      <td>&lt;a href=\"http://twitter.com/download/iphone\" r...</td>\n",
       "      <td>This is Emmy. She was adopted today. Massive r...</td>\n",
       "      <td>NaN</td>\n",
       "      <td>NaN</td>\n",
       "      <td>NaN</td>\n",
       "      <td>https://twitter.com/dog_rates/status/878057613...</td>\n",
       "      <td>14</td>\n",
       "      <td>10</td>\n",
       "      <td>Emmy</td>\n",
       "      <td>None</td>\n",
       "      <td>None</td>\n",
       "      <td>None</td>\n",
       "      <td>None</td>\n",
       "    </tr>\n",
       "    <tr>\n",
       "      <th>585</th>\n",
       "      <td>800018252395122689</td>\n",
       "      <td>NaN</td>\n",
       "      <td>NaN</td>\n",
       "      <td>2016-11-19 16:49:49 +0000</td>\n",
       "      <td>&lt;a href=\"http://twitter.com/download/iphone\" r...</td>\n",
       "      <td>Here's a doggo doin a struggle. 11/10 much det...</td>\n",
       "      <td>NaN</td>\n",
       "      <td>NaN</td>\n",
       "      <td>NaN</td>\n",
       "      <td>https://twitter.com/dog_rates/status/800018252...</td>\n",
       "      <td>11</td>\n",
       "      <td>10</td>\n",
       "      <td>None</td>\n",
       "      <td>doggo</td>\n",
       "      <td>None</td>\n",
       "      <td>None</td>\n",
       "      <td>None</td>\n",
       "    </tr>\n",
       "    <tr>\n",
       "      <th>1138</th>\n",
       "      <td>728035342121635841</td>\n",
       "      <td>NaN</td>\n",
       "      <td>NaN</td>\n",
       "      <td>2016-05-05 01:35:26 +0000</td>\n",
       "      <td>&lt;a href=\"http://twitter.com/download/iphone\" r...</td>\n",
       "      <td>This is all I want in my life. 12/10 for super...</td>\n",
       "      <td>NaN</td>\n",
       "      <td>NaN</td>\n",
       "      <td>NaN</td>\n",
       "      <td>https://twitter.com/dog_rates/status/728035342...</td>\n",
       "      <td>12</td>\n",
       "      <td>10</td>\n",
       "      <td>all</td>\n",
       "      <td>None</td>\n",
       "      <td>None</td>\n",
       "      <td>pupper</td>\n",
       "      <td>None</td>\n",
       "    </tr>\n",
       "    <tr>\n",
       "      <th>433</th>\n",
       "      <td>820690176645140481</td>\n",
       "      <td>NaN</td>\n",
       "      <td>NaN</td>\n",
       "      <td>2017-01-15 17:52:40 +0000</td>\n",
       "      <td>&lt;a href=\"http://twitter.com/download/iphone\" r...</td>\n",
       "      <td>The floofs have been released I repeat the flo...</td>\n",
       "      <td>NaN</td>\n",
       "      <td>NaN</td>\n",
       "      <td>NaN</td>\n",
       "      <td>https://twitter.com/dog_rates/status/820690176...</td>\n",
       "      <td>84</td>\n",
       "      <td>70</td>\n",
       "      <td>None</td>\n",
       "      <td>None</td>\n",
       "      <td>None</td>\n",
       "      <td>None</td>\n",
       "      <td>None</td>\n",
       "    </tr>\n",
       "  </tbody>\n",
       "</table>\n",
       "</div>"
      ],
      "text/plain": [
       "                tweet_id  in_reply_to_status_id  in_reply_to_user_id  \\\n",
       "1558  688789766343622656                    NaN                  NaN   \n",
       "76    878057613040115712                    NaN                  NaN   \n",
       "585   800018252395122689                    NaN                  NaN   \n",
       "1138  728035342121635841                    NaN                  NaN   \n",
       "433   820690176645140481                    NaN                  NaN   \n",
       "\n",
       "                      timestamp  \\\n",
       "1558  2016-01-17 18:27:32 +0000   \n",
       "76    2017-06-23 01:10:23 +0000   \n",
       "585   2016-11-19 16:49:49 +0000   \n",
       "1138  2016-05-05 01:35:26 +0000   \n",
       "433   2017-01-15 17:52:40 +0000   \n",
       "\n",
       "                                                 source  \\\n",
       "1558  <a href=\"http://twitter.com/download/iphone\" r...   \n",
       "76    <a href=\"http://twitter.com/download/iphone\" r...   \n",
       "585   <a href=\"http://twitter.com/download/iphone\" r...   \n",
       "1138  <a href=\"http://twitter.com/download/iphone\" r...   \n",
       "433   <a href=\"http://twitter.com/download/iphone\" r...   \n",
       "\n",
       "                                                   text  retweeted_status_id  \\\n",
       "1558  Meet Pubert. He's a Kerplunk Rumplestilt. Cann...                  NaN   \n",
       "76    This is Emmy. She was adopted today. Massive r...                  NaN   \n",
       "585   Here's a doggo doin a struggle. 11/10 much det...                  NaN   \n",
       "1138  This is all I want in my life. 12/10 for super...                  NaN   \n",
       "433   The floofs have been released I repeat the flo...                  NaN   \n",
       "\n",
       "      retweeted_status_user_id retweeted_status_timestamp  \\\n",
       "1558                       NaN                        NaN   \n",
       "76                         NaN                        NaN   \n",
       "585                        NaN                        NaN   \n",
       "1138                       NaN                        NaN   \n",
       "433                        NaN                        NaN   \n",
       "\n",
       "                                          expanded_urls  rating_numerator  \\\n",
       "1558  https://twitter.com/dog_rates/status/688789766...                 8   \n",
       "76    https://twitter.com/dog_rates/status/878057613...                14   \n",
       "585   https://twitter.com/dog_rates/status/800018252...                11   \n",
       "1138  https://twitter.com/dog_rates/status/728035342...                12   \n",
       "433   https://twitter.com/dog_rates/status/820690176...                84   \n",
       "\n",
       "      rating_denominator    name  doggo floofer  pupper puppo  \n",
       "1558                  10  Pubert   None    None    None  None  \n",
       "76                    10    Emmy   None    None    None  None  \n",
       "585                   10    None  doggo    None    None  None  \n",
       "1138                  10     all   None    None  pupper  None  \n",
       "433                   70    None   None    None    None  None  "
      ]
     },
     "execution_count": 10,
     "metadata": {},
     "output_type": "execute_result"
    }
   ],
   "source": [
    "twitter.sample(5)"
   ]
  },
  {
   "cell_type": "code",
   "execution_count": 33,
   "metadata": {},
   "outputs": [
    {
     "data": {
      "text/plain": [
       "10     2333\n",
       "11        3\n",
       "50        3\n",
       "20        2\n",
       "80        2\n",
       "0         1\n",
       "120       1\n",
       "7         1\n",
       "170       1\n",
       "150       1\n",
       "130       1\n",
       "90        1\n",
       "110       1\n",
       "2         1\n",
       "70        1\n",
       "40        1\n",
       "16        1\n",
       "15        1\n",
       "Name: rating_denominator, dtype: int64"
      ]
     },
     "execution_count": 33,
     "metadata": {},
     "output_type": "execute_result"
    }
   ],
   "source": [
    "twitter['rating_denominator'].value_counts()"
   ]
  },
  {
   "cell_type": "code",
   "execution_count": 34,
   "metadata": {},
   "outputs": [
    {
     "data": {
      "text/plain": [
       "12      558\n",
       "11      464\n",
       "10      461\n",
       "13      351\n",
       "9       158\n",
       "8       102\n",
       "7        55\n",
       "14       54\n",
       "5        37\n",
       "6        32\n",
       "3        19\n",
       "4        17\n",
       "1         9\n",
       "2         9\n",
       "0         2\n",
       "15        2\n",
       "75        2\n",
       "420       2\n",
       "182       1\n",
       "204       1\n",
       "143       1\n",
       "121       1\n",
       "99        1\n",
       "20        1\n",
       "45        1\n",
       "27        1\n",
       "17        1\n",
       "24        1\n",
       "26        1\n",
       "44        1\n",
       "50        1\n",
       "60        1\n",
       "80        1\n",
       "84        1\n",
       "88        1\n",
       "1776      1\n",
       "960       1\n",
       "666       1\n",
       "144       1\n",
       "165       1\n",
       "Name: rating_numerator, dtype: int64"
      ]
     },
     "execution_count": 34,
     "metadata": {},
     "output_type": "execute_result"
    }
   ],
   "source": [
    "twitter['rating_numerator'].value_counts()"
   ]
  },
  {
   "cell_type": "code",
   "execution_count": 75,
   "metadata": {},
   "outputs": [
    {
     "name": "stdout",
     "output_type": "stream",
     "text": [
      "<class 'pandas.core.frame.DataFrame'>\n",
      "RangeIndex: 2075 entries, 0 to 2074\n",
      "Data columns (total 12 columns):\n",
      " #   Column    Non-Null Count  Dtype  \n",
      "---  ------    --------------  -----  \n",
      " 0   tweet_id  2075 non-null   int64  \n",
      " 1   jpg_url   2075 non-null   object \n",
      " 2   img_num   2075 non-null   int64  \n",
      " 3   p1        2075 non-null   object \n",
      " 4   p1_conf   2075 non-null   float64\n",
      " 5   p1_dog    2075 non-null   bool   \n",
      " 6   p2        2075 non-null   object \n",
      " 7   p2_conf   2075 non-null   float64\n",
      " 8   p2_dog    2075 non-null   bool   \n",
      " 9   p3        2075 non-null   object \n",
      " 10  p3_conf   2075 non-null   float64\n",
      " 11  p3_dog    2075 non-null   bool   \n",
      "dtypes: bool(3), float64(3), int64(2), object(4)\n",
      "memory usage: 152.1+ KB\n"
     ]
    }
   ],
   "source": [
    "img_prediction.info()"
   ]
  },
  {
   "cell_type": "code",
   "execution_count": 11,
   "metadata": {},
   "outputs": [
    {
     "data": {
      "text/html": [
       "<div>\n",
       "<style scoped>\n",
       "    .dataframe tbody tr th:only-of-type {\n",
       "        vertical-align: middle;\n",
       "    }\n",
       "\n",
       "    .dataframe tbody tr th {\n",
       "        vertical-align: top;\n",
       "    }\n",
       "\n",
       "    .dataframe thead th {\n",
       "        text-align: right;\n",
       "    }\n",
       "</style>\n",
       "<table border=\"1\" class=\"dataframe\">\n",
       "  <thead>\n",
       "    <tr style=\"text-align: right;\">\n",
       "      <th></th>\n",
       "      <th>tweet_id</th>\n",
       "      <th>jpg_url</th>\n",
       "      <th>img_num</th>\n",
       "      <th>p1</th>\n",
       "      <th>p1_conf</th>\n",
       "      <th>p1_dog</th>\n",
       "      <th>p2</th>\n",
       "      <th>p2_conf</th>\n",
       "      <th>p2_dog</th>\n",
       "      <th>p3</th>\n",
       "      <th>p3_conf</th>\n",
       "      <th>p3_dog</th>\n",
       "    </tr>\n",
       "  </thead>\n",
       "  <tbody>\n",
       "    <tr>\n",
       "      <th>32</th>\n",
       "      <td>666428276349472768</td>\n",
       "      <td>https://pbs.twimg.com/media/CT-g-0DUwAEQdSn.jpg</td>\n",
       "      <td>1</td>\n",
       "      <td>Pembroke</td>\n",
       "      <td>0.371361</td>\n",
       "      <td>True</td>\n",
       "      <td>chow</td>\n",
       "      <td>0.249394</td>\n",
       "      <td>True</td>\n",
       "      <td>Pomeranian</td>\n",
       "      <td>0.241878</td>\n",
       "      <td>True</td>\n",
       "    </tr>\n",
       "    <tr>\n",
       "      <th>924</th>\n",
       "      <td>702321140488925184</td>\n",
       "      <td>https://pbs.twimg.com/media/Cb8lWafWEAA2q93.jpg</td>\n",
       "      <td>3</td>\n",
       "      <td>West_Highland_white_terrier</td>\n",
       "      <td>0.769159</td>\n",
       "      <td>True</td>\n",
       "      <td>Scotch_terrier</td>\n",
       "      <td>0.064369</td>\n",
       "      <td>True</td>\n",
       "      <td>Old_English_sheepdog</td>\n",
       "      <td>0.043763</td>\n",
       "      <td>True</td>\n",
       "    </tr>\n",
       "    <tr>\n",
       "      <th>968</th>\n",
       "      <td>706346369204748288</td>\n",
       "      <td>https://pbs.twimg.com/media/Cc1yRE2WoAAgxFQ.jpg</td>\n",
       "      <td>1</td>\n",
       "      <td>Tibetan_mastiff</td>\n",
       "      <td>0.956462</td>\n",
       "      <td>True</td>\n",
       "      <td>Rottweiler</td>\n",
       "      <td>0.025381</td>\n",
       "      <td>True</td>\n",
       "      <td>Appenzeller</td>\n",
       "      <td>0.008679</td>\n",
       "      <td>True</td>\n",
       "    </tr>\n",
       "    <tr>\n",
       "      <th>1162</th>\n",
       "      <td>734912297295085568</td>\n",
       "      <td>https://pbs.twimg.com/media/CjLuzPvUoAAbU5k.jpg</td>\n",
       "      <td>1</td>\n",
       "      <td>Maltese_dog</td>\n",
       "      <td>0.847292</td>\n",
       "      <td>True</td>\n",
       "      <td>feather_boa</td>\n",
       "      <td>0.059379</td>\n",
       "      <td>False</td>\n",
       "      <td>Old_English_sheepdog</td>\n",
       "      <td>0.052758</td>\n",
       "      <td>True</td>\n",
       "    </tr>\n",
       "    <tr>\n",
       "      <th>665</th>\n",
       "      <td>682750546109968385</td>\n",
       "      <td>https://pbs.twimg.com/media/CXmd_bsWkAEEXck.jpg</td>\n",
       "      <td>1</td>\n",
       "      <td>English_setter</td>\n",
       "      <td>0.947198</td>\n",
       "      <td>True</td>\n",
       "      <td>English_springer</td>\n",
       "      <td>0.031128</td>\n",
       "      <td>True</td>\n",
       "      <td>Brittany_spaniel</td>\n",
       "      <td>0.005512</td>\n",
       "      <td>True</td>\n",
       "    </tr>\n",
       "    <tr>\n",
       "      <th>514</th>\n",
       "      <td>676237365392908289</td>\n",
       "      <td>https://pbs.twimg.com/media/CWJ6Sc-WwAAlpI6.jpg</td>\n",
       "      <td>1</td>\n",
       "      <td>French_bulldog</td>\n",
       "      <td>0.961996</td>\n",
       "      <td>True</td>\n",
       "      <td>Chihuahua</td>\n",
       "      <td>0.021793</td>\n",
       "      <td>True</td>\n",
       "      <td>Boston_bull</td>\n",
       "      <td>0.006916</td>\n",
       "      <td>True</td>\n",
       "    </tr>\n",
       "    <tr>\n",
       "      <th>582</th>\n",
       "      <td>678798276842360832</td>\n",
       "      <td>https://pbs.twimg.com/media/CWuTbAKUsAAvZHh.jpg</td>\n",
       "      <td>1</td>\n",
       "      <td>Airedale</td>\n",
       "      <td>0.583122</td>\n",
       "      <td>True</td>\n",
       "      <td>silky_terrier</td>\n",
       "      <td>0.129567</td>\n",
       "      <td>True</td>\n",
       "      <td>Lakeland_terrier</td>\n",
       "      <td>0.094727</td>\n",
       "      <td>True</td>\n",
       "    </tr>\n",
       "    <tr>\n",
       "      <th>414</th>\n",
       "      <td>674008982932058114</td>\n",
       "      <td>https://pbs.twimg.com/media/CVqPkVoU4AAkXA7.jpg</td>\n",
       "      <td>1</td>\n",
       "      <td>jigsaw_puzzle</td>\n",
       "      <td>0.970810</td>\n",
       "      <td>False</td>\n",
       "      <td>prayer_rug</td>\n",
       "      <td>0.011048</td>\n",
       "      <td>False</td>\n",
       "      <td>quill</td>\n",
       "      <td>0.008432</td>\n",
       "      <td>False</td>\n",
       "    </tr>\n",
       "    <tr>\n",
       "      <th>1058</th>\n",
       "      <td>714957620017307648</td>\n",
       "      <td>https://pbs.twimg.com/media/CewKKiOWwAIe3pR.jpg</td>\n",
       "      <td>1</td>\n",
       "      <td>Great_Pyrenees</td>\n",
       "      <td>0.251516</td>\n",
       "      <td>True</td>\n",
       "      <td>Samoyed</td>\n",
       "      <td>0.139346</td>\n",
       "      <td>True</td>\n",
       "      <td>kuvasz</td>\n",
       "      <td>0.129005</td>\n",
       "      <td>True</td>\n",
       "    </tr>\n",
       "    <tr>\n",
       "      <th>2050</th>\n",
       "      <td>887343217045368832</td>\n",
       "      <td>https://pbs.twimg.com/ext_tw_video_thumb/88734...</td>\n",
       "      <td>1</td>\n",
       "      <td>Mexican_hairless</td>\n",
       "      <td>0.330741</td>\n",
       "      <td>True</td>\n",
       "      <td>sea_lion</td>\n",
       "      <td>0.275645</td>\n",
       "      <td>False</td>\n",
       "      <td>Weimaraner</td>\n",
       "      <td>0.134203</td>\n",
       "      <td>True</td>\n",
       "    </tr>\n",
       "  </tbody>\n",
       "</table>\n",
       "</div>"
      ],
      "text/plain": [
       "                tweet_id                                            jpg_url  \\\n",
       "32    666428276349472768    https://pbs.twimg.com/media/CT-g-0DUwAEQdSn.jpg   \n",
       "924   702321140488925184    https://pbs.twimg.com/media/Cb8lWafWEAA2q93.jpg   \n",
       "968   706346369204748288    https://pbs.twimg.com/media/Cc1yRE2WoAAgxFQ.jpg   \n",
       "1162  734912297295085568    https://pbs.twimg.com/media/CjLuzPvUoAAbU5k.jpg   \n",
       "665   682750546109968385    https://pbs.twimg.com/media/CXmd_bsWkAEEXck.jpg   \n",
       "514   676237365392908289    https://pbs.twimg.com/media/CWJ6Sc-WwAAlpI6.jpg   \n",
       "582   678798276842360832    https://pbs.twimg.com/media/CWuTbAKUsAAvZHh.jpg   \n",
       "414   674008982932058114    https://pbs.twimg.com/media/CVqPkVoU4AAkXA7.jpg   \n",
       "1058  714957620017307648    https://pbs.twimg.com/media/CewKKiOWwAIe3pR.jpg   \n",
       "2050  887343217045368832  https://pbs.twimg.com/ext_tw_video_thumb/88734...   \n",
       "\n",
       "      img_num                           p1   p1_conf  p1_dog  \\\n",
       "32          1                     Pembroke  0.371361    True   \n",
       "924         3  West_Highland_white_terrier  0.769159    True   \n",
       "968         1              Tibetan_mastiff  0.956462    True   \n",
       "1162        1                  Maltese_dog  0.847292    True   \n",
       "665         1               English_setter  0.947198    True   \n",
       "514         1               French_bulldog  0.961996    True   \n",
       "582         1                     Airedale  0.583122    True   \n",
       "414         1                jigsaw_puzzle  0.970810   False   \n",
       "1058        1               Great_Pyrenees  0.251516    True   \n",
       "2050        1             Mexican_hairless  0.330741    True   \n",
       "\n",
       "                    p2   p2_conf  p2_dog                    p3   p3_conf  \\\n",
       "32                chow  0.249394    True            Pomeranian  0.241878   \n",
       "924     Scotch_terrier  0.064369    True  Old_English_sheepdog  0.043763   \n",
       "968         Rottweiler  0.025381    True           Appenzeller  0.008679   \n",
       "1162       feather_boa  0.059379   False  Old_English_sheepdog  0.052758   \n",
       "665   English_springer  0.031128    True      Brittany_spaniel  0.005512   \n",
       "514          Chihuahua  0.021793    True           Boston_bull  0.006916   \n",
       "582      silky_terrier  0.129567    True      Lakeland_terrier  0.094727   \n",
       "414         prayer_rug  0.011048   False                 quill  0.008432   \n",
       "1058           Samoyed  0.139346    True                kuvasz  0.129005   \n",
       "2050          sea_lion  0.275645   False            Weimaraner  0.134203   \n",
       "\n",
       "      p3_dog  \n",
       "32      True  \n",
       "924     True  \n",
       "968     True  \n",
       "1162    True  \n",
       "665     True  \n",
       "514     True  \n",
       "582     True  \n",
       "414    False  \n",
       "1058    True  \n",
       "2050    True  "
      ]
     },
     "execution_count": 11,
     "metadata": {},
     "output_type": "execute_result"
    }
   ],
   "source": [
    "img_prediction.sample(10)"
   ]
  },
  {
   "cell_type": "code",
   "execution_count": 12,
   "metadata": {},
   "outputs": [
    {
     "name": "stdout",
     "output_type": "stream",
     "text": [
      "<class 'pandas.core.frame.DataFrame'>\n",
      "RangeIndex: 2330 entries, 0 to 2329\n",
      "Data columns (total 3 columns):\n",
      " #   Column          Non-Null Count  Dtype\n",
      "---  ------          --------------  -----\n",
      " 0   tweet_id        2330 non-null   int64\n",
      " 1   favorite_count  2330 non-null   int64\n",
      " 2   retweet_count   2330 non-null   int64\n",
      "dtypes: int64(3)\n",
      "memory usage: 54.7 KB\n"
     ]
    }
   ],
   "source": [
    "tweet_json.info()"
   ]
  },
  {
   "cell_type": "code",
   "execution_count": 13,
   "metadata": {},
   "outputs": [
    {
     "data": {
      "text/html": [
       "<div>\n",
       "<style scoped>\n",
       "    .dataframe tbody tr th:only-of-type {\n",
       "        vertical-align: middle;\n",
       "    }\n",
       "\n",
       "    .dataframe tbody tr th {\n",
       "        vertical-align: top;\n",
       "    }\n",
       "\n",
       "    .dataframe thead th {\n",
       "        text-align: right;\n",
       "    }\n",
       "</style>\n",
       "<table border=\"1\" class=\"dataframe\">\n",
       "  <thead>\n",
       "    <tr style=\"text-align: right;\">\n",
       "      <th></th>\n",
       "      <th>tweet_id</th>\n",
       "      <th>favorite_count</th>\n",
       "      <th>retweet_count</th>\n",
       "    </tr>\n",
       "  </thead>\n",
       "  <tbody>\n",
       "    <tr>\n",
       "      <th>0</th>\n",
       "      <td>892420643555336193</td>\n",
       "      <td>35050</td>\n",
       "      <td>7374</td>\n",
       "    </tr>\n",
       "    <tr>\n",
       "      <th>1</th>\n",
       "      <td>892177421306343426</td>\n",
       "      <td>30352</td>\n",
       "      <td>5494</td>\n",
       "    </tr>\n",
       "  </tbody>\n",
       "</table>\n",
       "</div>"
      ],
      "text/plain": [
       "             tweet_id  favorite_count  retweet_count\n",
       "0  892420643555336193           35050           7374\n",
       "1  892177421306343426           30352           5494"
      ]
     },
     "execution_count": 13,
     "metadata": {},
     "output_type": "execute_result"
    }
   ],
   "source": [
    "tweet_json.head(2)"
   ]
  },
  {
   "cell_type": "markdown",
   "metadata": {},
   "source": [
    "Quality issues summary\n",
    "- HTML entities found in source,  require to extract important text to enhance readability.\n",
    "- Convert 'source' datatype to categorical \n",
    "- Timestamp need to be converted to datetime format\n",
    "- Incorrect denominators , \n",
    "- Some rating numerators are too large \n",
    "- The key points indicates that we’re only interested in “original tweets”, no “retweets”.181 datas are stored in the columns retweeted_status_id, retweeted_status_timestamp.retweeted_status_user_id, retweeted_status_timestamp.\n",
    "- Nulls represented as 'None' in columns 'name'. \n",
    "- Uncapitalized texts are incorrect in 'name' column Example \"a\", \"an\", \"the\" etc\n",
    "- Image prediction contains data redundancy "
   ]
  },
  {
   "cell_type": "markdown",
   "metadata": {},
   "source": [
    "Tidy Issues\n",
    "- twitter-archive-enhanced.csv's doggo, floofer, pupper, and puppo columns should be merged into one column\n",
    "- All three files have common tweet_id column, which can be used to join all three files as one dataframe.\n",
    "- Dropping retweeted_status_id, retweeted_status_user_id, retweeted_status_timestamp,in_reply_to_status_id,in_reply_to_user_id columns."
   ]
  },
  {
   "cell_type": "markdown",
   "metadata": {},
   "source": [
    "# Cleaning Data"
   ]
  },
  {
   "cell_type": "code",
   "execution_count": 18,
   "metadata": {},
   "outputs": [],
   "source": [
    "twitter1 = twitter.copy()\n",
    "img_prediction1 = img_prediction.copy()\n",
    "tweet_json1 = tweet_json.copy()"
   ]
  },
  {
   "cell_type": "markdown",
   "metadata": {},
   "source": [
    "# Quality Issue 1"
   ]
  },
  {
   "cell_type": "markdown",
   "metadata": {},
   "source": [
    "**Define**\n",
    "\n",
    "HTML entities found in source, extract important text to enhance readability."
   ]
  },
  {
   "cell_type": "markdown",
   "metadata": {},
   "source": [
    "**Code**"
   ]
  },
  {
   "cell_type": "code",
   "execution_count": 19,
   "metadata": {},
   "outputs": [],
   "source": [
    "twitter1['source'] = twitter1['source'].str.replace(r'<(?:a\\b[^>]*>|/a>)', '')"
   ]
  },
  {
   "cell_type": "markdown",
   "metadata": {},
   "source": [
    "**Test**"
   ]
  },
  {
   "cell_type": "code",
   "execution_count": 20,
   "metadata": {},
   "outputs": [
    {
     "data": {
      "text/plain": [
       "Twitter for iPhone     2221\n",
       "Vine - Make a Scene      91\n",
       "Twitter Web Client       33\n",
       "TweetDeck                11\n",
       "Name: source, dtype: int64"
      ]
     },
     "execution_count": 20,
     "metadata": {},
     "output_type": "execute_result"
    }
   ],
   "source": [
    "twitter1['source'].value_counts()"
   ]
  },
  {
   "cell_type": "markdown",
   "metadata": {},
   "source": [
    "# Quality Issue 2"
   ]
  },
  {
   "cell_type": "markdown",
   "metadata": {},
   "source": [
    "**Define**\n",
    "\n",
    "'Source' datatype should be converted to Category instead of String "
   ]
  },
  {
   "cell_type": "markdown",
   "metadata": {},
   "source": [
    "**Code**"
   ]
  },
  {
   "cell_type": "code",
   "execution_count": 21,
   "metadata": {},
   "outputs": [],
   "source": [
    "twitter1['source'] = twitter1['source'].astype('category')"
   ]
  },
  {
   "cell_type": "markdown",
   "metadata": {},
   "source": [
    "**Test**"
   ]
  },
  {
   "cell_type": "code",
   "execution_count": 106,
   "metadata": {},
   "outputs": [
    {
     "name": "stdout",
     "output_type": "stream",
     "text": [
      "<class 'pandas.core.frame.DataFrame'>\n",
      "RangeIndex: 2356 entries, 0 to 2355\n",
      "Data columns (total 17 columns):\n",
      " #   Column                      Non-Null Count  Dtype   \n",
      "---  ------                      --------------  -----   \n",
      " 0   tweet_id                    2356 non-null   int64   \n",
      " 1   in_reply_to_status_id       78 non-null     float64 \n",
      " 2   in_reply_to_user_id         78 non-null     float64 \n",
      " 3   timestamp                   2356 non-null   object  \n",
      " 4   source                      2356 non-null   category\n",
      " 5   text                        2356 non-null   object  \n",
      " 6   retweeted_status_id         181 non-null    float64 \n",
      " 7   retweeted_status_user_id    181 non-null    float64 \n",
      " 8   retweeted_status_timestamp  181 non-null    object  \n",
      " 9   expanded_urls               2297 non-null   object  \n",
      " 10  rating_numerator            2356 non-null   int64   \n",
      " 11  rating_denominator          2356 non-null   int64   \n",
      " 12  name                        2356 non-null   object  \n",
      " 13  doggo                       2356 non-null   object  \n",
      " 14  floofer                     2356 non-null   object  \n",
      " 15  pupper                      2356 non-null   object  \n",
      " 16  puppo                       2356 non-null   object  \n",
      "dtypes: category(1), float64(4), int64(3), object(9)\n",
      "memory usage: 297.1+ KB\n"
     ]
    }
   ],
   "source": [
    "twitter1.info()"
   ]
  },
  {
   "cell_type": "markdown",
   "metadata": {},
   "source": [
    "# Quality Issue 3"
   ]
  },
  {
   "cell_type": "markdown",
   "metadata": {},
   "source": [
    "**Define**\n",
    "\n",
    "Striping +0000 from timestamp and convert its datatype to 'datetime'"
   ]
  },
  {
   "cell_type": "markdown",
   "metadata": {},
   "source": [
    "**Code**"
   ]
  },
  {
   "cell_type": "code",
   "execution_count": 22,
   "metadata": {},
   "outputs": [],
   "source": [
    "twitter1['timestamp'] = twitter1['timestamp'].str[:-5].str.strip()"
   ]
  },
  {
   "cell_type": "code",
   "execution_count": 23,
   "metadata": {},
   "outputs": [],
   "source": [
    "twitter1['timestamp'] = pd.to_datetime(twitter1.timestamp)"
   ]
  },
  {
   "cell_type": "markdown",
   "metadata": {},
   "source": [
    "**Test**"
   ]
  },
  {
   "cell_type": "code",
   "execution_count": 24,
   "metadata": {},
   "outputs": [
    {
     "name": "stdout",
     "output_type": "stream",
     "text": [
      "<class 'pandas.core.frame.DataFrame'>\n",
      "RangeIndex: 2356 entries, 0 to 2355\n",
      "Data columns (total 17 columns):\n",
      " #   Column                      Non-Null Count  Dtype         \n",
      "---  ------                      --------------  -----         \n",
      " 0   tweet_id                    2356 non-null   int64         \n",
      " 1   in_reply_to_status_id       78 non-null     float64       \n",
      " 2   in_reply_to_user_id         78 non-null     float64       \n",
      " 3   timestamp                   2356 non-null   datetime64[ns]\n",
      " 4   source                      2356 non-null   category      \n",
      " 5   text                        2356 non-null   object        \n",
      " 6   retweeted_status_id         181 non-null    float64       \n",
      " 7   retweeted_status_user_id    181 non-null    float64       \n",
      " 8   retweeted_status_timestamp  181 non-null    object        \n",
      " 9   expanded_urls               2297 non-null   object        \n",
      " 10  rating_numerator            2356 non-null   int64         \n",
      " 11  rating_denominator          2356 non-null   int64         \n",
      " 12  name                        2356 non-null   object        \n",
      " 13  doggo                       2356 non-null   object        \n",
      " 14  floofer                     2356 non-null   object        \n",
      " 15  pupper                      2356 non-null   object        \n",
      " 16  puppo                       2356 non-null   object        \n",
      "dtypes: category(1), datetime64[ns](1), float64(4), int64(3), object(8)\n",
      "memory usage: 297.1+ KB\n"
     ]
    }
   ],
   "source": [
    "twitter1.info()"
   ]
  },
  {
   "cell_type": "code",
   "execution_count": 25,
   "metadata": {},
   "outputs": [
    {
     "data": {
      "text/plain": [
       "105   2017-06-06 16:07:15\n",
       "932   2016-07-15 17:56:40\n",
       "Name: timestamp, dtype: datetime64[ns]"
      ]
     },
     "execution_count": 25,
     "metadata": {},
     "output_type": "execute_result"
    }
   ],
   "source": [
    "twitter1['timestamp'].sample(2)"
   ]
  },
  {
   "cell_type": "markdown",
   "metadata": {},
   "source": [
    "# Quality Issue 4\n"
   ]
  },
  {
   "cell_type": "markdown",
   "metadata": {},
   "source": [
    "**Define**\n",
    "\n",
    "Incorrect denominator, denominator should be 10. \n"
   ]
  },
  {
   "cell_type": "markdown",
   "metadata": {},
   "source": [
    "**Code**"
   ]
  },
  {
   "cell_type": "code",
   "execution_count": 26,
   "metadata": {},
   "outputs": [
    {
     "data": {
      "text/plain": [
       "10     2333\n",
       "11        3\n",
       "50        3\n",
       "80        2\n",
       "20        2\n",
       "2         1\n",
       "16        1\n",
       "40        1\n",
       "70        1\n",
       "15        1\n",
       "90        1\n",
       "110       1\n",
       "120       1\n",
       "130       1\n",
       "150       1\n",
       "170       1\n",
       "7         1\n",
       "0         1\n",
       "Name: rating_denominator, dtype: int64"
      ]
     },
     "execution_count": 26,
     "metadata": {},
     "output_type": "execute_result"
    }
   ],
   "source": [
    "twitter1['rating_denominator'].value_counts()"
   ]
  },
  {
   "cell_type": "code",
   "execution_count": 27,
   "metadata": {},
   "outputs": [],
   "source": [
    "twitter1.loc[twitter1['rating_denominator'] != 10, 'rating_denominator'] = 10"
   ]
  },
  {
   "cell_type": "markdown",
   "metadata": {},
   "source": [
    "**Test**"
   ]
  },
  {
   "cell_type": "code",
   "execution_count": 113,
   "metadata": {},
   "outputs": [
    {
     "data": {
      "text/plain": [
       "10    2356\n",
       "Name: rating_denominator, dtype: int64"
      ]
     },
     "execution_count": 113,
     "metadata": {},
     "output_type": "execute_result"
    }
   ],
   "source": [
    "twitter1.rating_denominator.value_counts()"
   ]
  },
  {
   "cell_type": "markdown",
   "metadata": {},
   "source": [
    "# Quality Issue 5"
   ]
  },
  {
   "cell_type": "markdown",
   "metadata": {},
   "source": [
    "**Define**\n",
    "\n",
    "According to WeRateDog, 15 is the highest rating. There are several rating numerator higher than 15.This section, I'm going to remove rating numerator > 15 \n"
   ]
  },
  {
   "cell_type": "markdown",
   "metadata": {},
   "source": [
    "**Code**"
   ]
  },
  {
   "cell_type": "code",
   "execution_count": 28,
   "metadata": {},
   "outputs": [
    {
     "data": {
      "text/html": [
       "<div>\n",
       "<style scoped>\n",
       "    .dataframe tbody tr th:only-of-type {\n",
       "        vertical-align: middle;\n",
       "    }\n",
       "\n",
       "    .dataframe tbody tr th {\n",
       "        vertical-align: top;\n",
       "    }\n",
       "\n",
       "    .dataframe thead th {\n",
       "        text-align: right;\n",
       "    }\n",
       "</style>\n",
       "<table border=\"1\" class=\"dataframe\">\n",
       "  <thead>\n",
       "    <tr style=\"text-align: right;\">\n",
       "      <th></th>\n",
       "      <th>tweet_id</th>\n",
       "      <th>rating_numerator</th>\n",
       "      <th>rating_denominator</th>\n",
       "    </tr>\n",
       "  </thead>\n",
       "  <tbody>\n",
       "    <tr>\n",
       "      <th>55</th>\n",
       "      <td>881633300179243008</td>\n",
       "      <td>17</td>\n",
       "      <td>10</td>\n",
       "    </tr>\n",
       "    <tr>\n",
       "      <th>188</th>\n",
       "      <td>855862651834028034</td>\n",
       "      <td>420</td>\n",
       "      <td>10</td>\n",
       "    </tr>\n",
       "    <tr>\n",
       "      <th>189</th>\n",
       "      <td>855860136149123072</td>\n",
       "      <td>666</td>\n",
       "      <td>10</td>\n",
       "    </tr>\n",
       "    <tr>\n",
       "      <th>290</th>\n",
       "      <td>838150277551247360</td>\n",
       "      <td>182</td>\n",
       "      <td>10</td>\n",
       "    </tr>\n",
       "    <tr>\n",
       "      <th>313</th>\n",
       "      <td>835246439529840640</td>\n",
       "      <td>960</td>\n",
       "      <td>10</td>\n",
       "    </tr>\n",
       "    <tr>\n",
       "      <th>340</th>\n",
       "      <td>832215909146226688</td>\n",
       "      <td>75</td>\n",
       "      <td>10</td>\n",
       "    </tr>\n",
       "    <tr>\n",
       "      <th>433</th>\n",
       "      <td>820690176645140481</td>\n",
       "      <td>84</td>\n",
       "      <td>10</td>\n",
       "    </tr>\n",
       "    <tr>\n",
       "      <th>516</th>\n",
       "      <td>810984652412424192</td>\n",
       "      <td>24</td>\n",
       "      <td>10</td>\n",
       "    </tr>\n",
       "    <tr>\n",
       "      <th>695</th>\n",
       "      <td>786709082849828864</td>\n",
       "      <td>75</td>\n",
       "      <td>10</td>\n",
       "    </tr>\n",
       "    <tr>\n",
       "      <th>763</th>\n",
       "      <td>778027034220126208</td>\n",
       "      <td>27</td>\n",
       "      <td>10</td>\n",
       "    </tr>\n",
       "    <tr>\n",
       "      <th>902</th>\n",
       "      <td>758467244762497024</td>\n",
       "      <td>165</td>\n",
       "      <td>10</td>\n",
       "    </tr>\n",
       "    <tr>\n",
       "      <th>979</th>\n",
       "      <td>749981277374128128</td>\n",
       "      <td>1776</td>\n",
       "      <td>10</td>\n",
       "    </tr>\n",
       "    <tr>\n",
       "      <th>1120</th>\n",
       "      <td>731156023742988288</td>\n",
       "      <td>204</td>\n",
       "      <td>10</td>\n",
       "    </tr>\n",
       "    <tr>\n",
       "      <th>1202</th>\n",
       "      <td>716439118184652801</td>\n",
       "      <td>50</td>\n",
       "      <td>10</td>\n",
       "    </tr>\n",
       "    <tr>\n",
       "      <th>1228</th>\n",
       "      <td>713900603437621249</td>\n",
       "      <td>99</td>\n",
       "      <td>10</td>\n",
       "    </tr>\n",
       "    <tr>\n",
       "      <th>1254</th>\n",
       "      <td>710658690886586372</td>\n",
       "      <td>80</td>\n",
       "      <td>10</td>\n",
       "    </tr>\n",
       "    <tr>\n",
       "      <th>1274</th>\n",
       "      <td>709198395643068416</td>\n",
       "      <td>45</td>\n",
       "      <td>10</td>\n",
       "    </tr>\n",
       "    <tr>\n",
       "      <th>1351</th>\n",
       "      <td>704054845121142784</td>\n",
       "      <td>60</td>\n",
       "      <td>10</td>\n",
       "    </tr>\n",
       "    <tr>\n",
       "      <th>1433</th>\n",
       "      <td>697463031882764288</td>\n",
       "      <td>44</td>\n",
       "      <td>10</td>\n",
       "    </tr>\n",
       "    <tr>\n",
       "      <th>1634</th>\n",
       "      <td>684225744407494656</td>\n",
       "      <td>143</td>\n",
       "      <td>10</td>\n",
       "    </tr>\n",
       "    <tr>\n",
       "      <th>1635</th>\n",
       "      <td>684222868335505415</td>\n",
       "      <td>121</td>\n",
       "      <td>10</td>\n",
       "    </tr>\n",
       "    <tr>\n",
       "      <th>1663</th>\n",
       "      <td>682808988178739200</td>\n",
       "      <td>20</td>\n",
       "      <td>10</td>\n",
       "    </tr>\n",
       "    <tr>\n",
       "      <th>1712</th>\n",
       "      <td>680494726643068929</td>\n",
       "      <td>26</td>\n",
       "      <td>10</td>\n",
       "    </tr>\n",
       "    <tr>\n",
       "      <th>1779</th>\n",
       "      <td>677716515794329600</td>\n",
       "      <td>144</td>\n",
       "      <td>10</td>\n",
       "    </tr>\n",
       "    <tr>\n",
       "      <th>1843</th>\n",
       "      <td>675853064436391936</td>\n",
       "      <td>88</td>\n",
       "      <td>10</td>\n",
       "    </tr>\n",
       "    <tr>\n",
       "      <th>2074</th>\n",
       "      <td>670842764863651840</td>\n",
       "      <td>420</td>\n",
       "      <td>10</td>\n",
       "    </tr>\n",
       "  </tbody>\n",
       "</table>\n",
       "</div>"
      ],
      "text/plain": [
       "                tweet_id  rating_numerator  rating_denominator\n",
       "55    881633300179243008                17                  10\n",
       "188   855862651834028034               420                  10\n",
       "189   855860136149123072               666                  10\n",
       "290   838150277551247360               182                  10\n",
       "313   835246439529840640               960                  10\n",
       "340   832215909146226688                75                  10\n",
       "433   820690176645140481                84                  10\n",
       "516   810984652412424192                24                  10\n",
       "695   786709082849828864                75                  10\n",
       "763   778027034220126208                27                  10\n",
       "902   758467244762497024               165                  10\n",
       "979   749981277374128128              1776                  10\n",
       "1120  731156023742988288               204                  10\n",
       "1202  716439118184652801                50                  10\n",
       "1228  713900603437621249                99                  10\n",
       "1254  710658690886586372                80                  10\n",
       "1274  709198395643068416                45                  10\n",
       "1351  704054845121142784                60                  10\n",
       "1433  697463031882764288                44                  10\n",
       "1634  684225744407494656               143                  10\n",
       "1635  684222868335505415               121                  10\n",
       "1663  682808988178739200                20                  10\n",
       "1712  680494726643068929                26                  10\n",
       "1779  677716515794329600               144                  10\n",
       "1843  675853064436391936                88                  10\n",
       "2074  670842764863651840               420                  10"
      ]
     },
     "execution_count": 28,
     "metadata": {},
     "output_type": "execute_result"
    }
   ],
   "source": [
    "twitter1.loc[twitter1['rating_numerator']>15,['tweet_id','rating_numerator','rating_denominator']]"
   ]
  },
  {
   "cell_type": "code",
   "execution_count": 29,
   "metadata": {},
   "outputs": [],
   "source": [
    "twitter1 = twitter1[twitter1['rating_numerator'] < 15]"
   ]
  },
  {
   "cell_type": "markdown",
   "metadata": {},
   "source": [
    "**Test**"
   ]
  },
  {
   "cell_type": "code",
   "execution_count": 30,
   "metadata": {},
   "outputs": [
    {
     "data": {
      "text/html": [
       "<div>\n",
       "<style scoped>\n",
       "    .dataframe tbody tr th:only-of-type {\n",
       "        vertical-align: middle;\n",
       "    }\n",
       "\n",
       "    .dataframe tbody tr th {\n",
       "        vertical-align: top;\n",
       "    }\n",
       "\n",
       "    .dataframe thead th {\n",
       "        text-align: right;\n",
       "    }\n",
       "</style>\n",
       "<table border=\"1\" class=\"dataframe\">\n",
       "  <thead>\n",
       "    <tr style=\"text-align: right;\">\n",
       "      <th></th>\n",
       "      <th>tweet_id</th>\n",
       "      <th>rating_numerator</th>\n",
       "      <th>rating_denominator</th>\n",
       "    </tr>\n",
       "  </thead>\n",
       "  <tbody>\n",
       "  </tbody>\n",
       "</table>\n",
       "</div>"
      ],
      "text/plain": [
       "Empty DataFrame\n",
       "Columns: [tweet_id, rating_numerator, rating_denominator]\n",
       "Index: []"
      ]
     },
     "execution_count": 30,
     "metadata": {},
     "output_type": "execute_result"
    }
   ],
   "source": [
    "twitter1.loc[twitter1['rating_numerator']>15,['tweet_id','rating_numerator','rating_denominator']]\n"
   ]
  },
  {
   "cell_type": "markdown",
   "metadata": {},
   "source": [
    "# Quality Issue 6"
   ]
  },
  {
   "cell_type": "markdown",
   "metadata": {},
   "source": [
    "**Define**\n",
    "The key points indicates that we’re only interested in “original tweets”, no “retweets”.181 datas are stored in the columns retweeted_status_id, retweeted_status_timestamp.retweeted_status_user_id, retweeted_status_timestamp."
   ]
  },
  {
   "cell_type": "markdown",
   "metadata": {},
   "source": [
    "**Code**"
   ]
  },
  {
   "cell_type": "code",
   "execution_count": 30,
   "metadata": {},
   "outputs": [
    {
     "name": "stdout",
     "output_type": "stream",
     "text": [
      "<class 'pandas.core.frame.DataFrame'>\n",
      "Int64Index: 2328 entries, 0 to 2355\n",
      "Data columns (total 17 columns):\n",
      " #   Column                      Non-Null Count  Dtype         \n",
      "---  ------                      --------------  -----         \n",
      " 0   tweet_id                    2328 non-null   int64         \n",
      " 1   in_reply_to_status_id       70 non-null     float64       \n",
      " 2   in_reply_to_user_id         70 non-null     float64       \n",
      " 3   timestamp                   2328 non-null   datetime64[ns]\n",
      " 4   source                      2328 non-null   category      \n",
      " 5   text                        2328 non-null   object        \n",
      " 6   retweeted_status_id         179 non-null    float64       \n",
      " 7   retweeted_status_user_id    179 non-null    float64       \n",
      " 8   retweeted_status_timestamp  179 non-null    object        \n",
      " 9   expanded_urls               2276 non-null   object        \n",
      " 10  rating_numerator            2328 non-null   int64         \n",
      " 11  rating_denominator          2328 non-null   int64         \n",
      " 12  name                        2328 non-null   object        \n",
      " 13  doggo                       2328 non-null   object        \n",
      " 14  floofer                     2328 non-null   object        \n",
      " 15  pupper                      2328 non-null   object        \n",
      " 16  puppo                       2328 non-null   object        \n",
      "dtypes: category(1), datetime64[ns](1), float64(4), int64(3), object(8)\n",
      "memory usage: 311.6+ KB\n"
     ]
    }
   ],
   "source": [
    "twitter1.info()"
   ]
  },
  {
   "cell_type": "code",
   "execution_count": 31,
   "metadata": {},
   "outputs": [],
   "source": [
    "twitter1= twitter1[twitter1.retweeted_status_id.isna()]\n",
    "twitter1 = twitter1[twitter1.in_reply_to_status_id.isna()]"
   ]
  },
  {
   "cell_type": "markdown",
   "metadata": {},
   "source": [
    "**Test**"
   ]
  },
  {
   "cell_type": "code",
   "execution_count": 32,
   "metadata": {},
   "outputs": [
    {
     "name": "stdout",
     "output_type": "stream",
     "text": [
      "<class 'pandas.core.frame.DataFrame'>\n",
      "Int64Index: 2079 entries, 0 to 2355\n",
      "Data columns (total 17 columns):\n",
      " #   Column                      Non-Null Count  Dtype         \n",
      "---  ------                      --------------  -----         \n",
      " 0   tweet_id                    2079 non-null   int64         \n",
      " 1   in_reply_to_status_id       0 non-null      float64       \n",
      " 2   in_reply_to_user_id         0 non-null      float64       \n",
      " 3   timestamp                   2079 non-null   datetime64[ns]\n",
      " 4   source                      2079 non-null   category      \n",
      " 5   text                        2079 non-null   object        \n",
      " 6   retweeted_status_id         0 non-null      float64       \n",
      " 7   retweeted_status_user_id    0 non-null      float64       \n",
      " 8   retweeted_status_timestamp  0 non-null      object        \n",
      " 9   expanded_urls               2076 non-null   object        \n",
      " 10  rating_numerator            2079 non-null   int64         \n",
      " 11  rating_denominator          2079 non-null   int64         \n",
      " 12  name                        2079 non-null   object        \n",
      " 13  doggo                       2079 non-null   object        \n",
      " 14  floofer                     2079 non-null   object        \n",
      " 15  pupper                      2079 non-null   object        \n",
      " 16  puppo                       2079 non-null   object        \n",
      "dtypes: category(1), datetime64[ns](1), float64(4), int64(3), object(8)\n",
      "memory usage: 278.3+ KB\n"
     ]
    }
   ],
   "source": [
    "twitter1.info()"
   ]
  },
  {
   "cell_type": "markdown",
   "metadata": {},
   "source": [
    "# Quality Issue 7"
   ]
  },
  {
   "cell_type": "markdown",
   "metadata": {},
   "source": [
    "**Define**\n",
    "\n",
    "'name' column contains 'None' string instead of 'NaN', replacing None with NaN"
   ]
  },
  {
   "cell_type": "markdown",
   "metadata": {},
   "source": [
    "**Code**"
   ]
  },
  {
   "cell_type": "code",
   "execution_count": 33,
   "metadata": {},
   "outputs": [
    {
     "data": {
      "text/plain": [
       "None         745\n",
       "a             55\n",
       "Charlie       12\n",
       "Lucy          11\n",
       "Cooper        11\n",
       "            ... \n",
       "Jomathan       1\n",
       "Banditt        1\n",
       "Bonaparte      1\n",
       "Kane           1\n",
       "Angel          1\n",
       "Name: name, Length: 957, dtype: int64"
      ]
     },
     "execution_count": 33,
     "metadata": {},
     "output_type": "execute_result"
    }
   ],
   "source": [
    "twitter.name.value_counts()"
   ]
  },
  {
   "cell_type": "code",
   "execution_count": 34,
   "metadata": {},
   "outputs": [],
   "source": [
    "twitter1['name']=twitter1['name'].replace('None',np.nan)"
   ]
  },
  {
   "cell_type": "markdown",
   "metadata": {},
   "source": [
    "**Test**"
   ]
  },
  {
   "cell_type": "code",
   "execution_count": 35,
   "metadata": {},
   "outputs": [
    {
     "data": {
      "text/plain": [
       "a          54\n",
       "Lucy       11\n",
       "Charlie    11\n",
       "Oliver     10\n",
       "Cooper     10\n",
       "           ..\n",
       "Howie       1\n",
       "Gòrdón      1\n",
       "Trip        1\n",
       "Happy       1\n",
       "Lillie      1\n",
       "Name: name, Length: 951, dtype: int64"
      ]
     },
     "execution_count": 35,
     "metadata": {},
     "output_type": "execute_result"
    }
   ],
   "source": [
    "twitter1['name'].value_counts()"
   ]
  },
  {
   "cell_type": "markdown",
   "metadata": {},
   "source": [
    "# Quality Issue 8"
   ]
  },
  {
   "cell_type": "markdown",
   "metadata": {},
   "source": [
    "**Define**\n",
    "\n",
    "Uncapitalized texts are incorrect in 'name' column/ Example \"a\", \"an\", \"the\" etc"
   ]
  },
  {
   "cell_type": "markdown",
   "metadata": {},
   "source": [
    "**Code**"
   ]
  },
  {
   "cell_type": "code",
   "execution_count": 36,
   "metadata": {},
   "outputs": [],
   "source": [
    "twitter1.loc[twitter['name'].str.islower(),'name']='None'"
   ]
  },
  {
   "cell_type": "markdown",
   "metadata": {},
   "source": [
    "**Test**"
   ]
  },
  {
   "cell_type": "code",
   "execution_count": 37,
   "metadata": {},
   "outputs": [
    {
     "data": {
      "text/plain": [
       "None       102\n",
       "Lucy        11\n",
       "Charlie     11\n",
       "Cooper      10\n",
       "Oliver      10\n",
       "          ... \n",
       "Burt         1\n",
       "Champ        1\n",
       "Howie        1\n",
       "Gòrdón       1\n",
       "Pipsy        1\n",
       "Name: name, Length: 928, dtype: int64"
      ]
     },
     "execution_count": 37,
     "metadata": {},
     "output_type": "execute_result"
    }
   ],
   "source": [
    "twitter1['name'].value_counts()"
   ]
  },
  {
   "cell_type": "markdown",
   "metadata": {},
   "source": [
    "# **Quality Issue 9**"
   ]
  },
  {
   "cell_type": "markdown",
   "metadata": {},
   "source": [
    "**Define**\n",
    "\n",
    "Image prediction contains data redundancy. This section i will be  "
   ]
  },
  {
   "cell_type": "markdown",
   "metadata": {},
   "source": [
    "**Code**"
   ]
  },
  {
   "cell_type": "code",
   "execution_count": 38,
   "metadata": {},
   "outputs": [],
   "source": [
    "imgp1 = img_prediction1.query('p1_dog==True')[['tweet_id', 'p1', 'p1_conf']]\n",
    "imgp2 = img_prediction1.query('p1_dog==False & p2_dog ==True')[['tweet_id', 'p2', 'p2_conf']]\n",
    "imgp3 = img_prediction1.query('p1_dog==False & p2_dog ==False & p3_dog ==True')[['tweet_id', 'p3', 'p3_conf']]"
   ]
  },
  {
   "cell_type": "code",
   "execution_count": 39,
   "metadata": {},
   "outputs": [],
   "source": [
    "imgp1.columns = ['tweet_id','predictions', 'confidence']\n",
    "imgp2.columns = ['tweet_id','predictions', 'confidence']\n",
    "imgp3.columns = ['tweet_id','predictions', 'confidence']\n",
    "\n",
    "img_prediction_new = pd.concat([imgp1, imgp2, imgp3])\n"
   ]
  },
  {
   "cell_type": "markdown",
   "metadata": {},
   "source": [
    "**Test**"
   ]
  },
  {
   "cell_type": "code",
   "execution_count": 40,
   "metadata": {},
   "outputs": [
    {
     "data": {
      "text/html": [
       "<div>\n",
       "<style scoped>\n",
       "    .dataframe tbody tr th:only-of-type {\n",
       "        vertical-align: middle;\n",
       "    }\n",
       "\n",
       "    .dataframe tbody tr th {\n",
       "        vertical-align: top;\n",
       "    }\n",
       "\n",
       "    .dataframe thead th {\n",
       "        text-align: right;\n",
       "    }\n",
       "</style>\n",
       "<table border=\"1\" class=\"dataframe\">\n",
       "  <thead>\n",
       "    <tr style=\"text-align: right;\">\n",
       "      <th></th>\n",
       "      <th>tweet_id</th>\n",
       "      <th>predictions</th>\n",
       "      <th>confidence</th>\n",
       "    </tr>\n",
       "  </thead>\n",
       "  <tbody>\n",
       "    <tr>\n",
       "      <th>0</th>\n",
       "      <td>666020888022790149</td>\n",
       "      <td>Welsh_springer_spaniel</td>\n",
       "      <td>0.465074</td>\n",
       "    </tr>\n",
       "    <tr>\n",
       "      <th>1</th>\n",
       "      <td>666029285002620928</td>\n",
       "      <td>redbone</td>\n",
       "      <td>0.506826</td>\n",
       "    </tr>\n",
       "    <tr>\n",
       "      <th>2</th>\n",
       "      <td>666033412701032449</td>\n",
       "      <td>German_shepherd</td>\n",
       "      <td>0.596461</td>\n",
       "    </tr>\n",
       "    <tr>\n",
       "      <th>3</th>\n",
       "      <td>666044226329800704</td>\n",
       "      <td>Rhodesian_ridgeback</td>\n",
       "      <td>0.408143</td>\n",
       "    </tr>\n",
       "    <tr>\n",
       "      <th>4</th>\n",
       "      <td>666049248165822465</td>\n",
       "      <td>miniature_pinscher</td>\n",
       "      <td>0.560311</td>\n",
       "    </tr>\n",
       "    <tr>\n",
       "      <th>...</th>\n",
       "      <td>...</td>\n",
       "      <td>...</td>\n",
       "      <td>...</td>\n",
       "    </tr>\n",
       "    <tr>\n",
       "      <th>1872</th>\n",
       "      <td>844979544864018432</td>\n",
       "      <td>Shetland_sheepdog</td>\n",
       "      <td>0.000132</td>\n",
       "    </tr>\n",
       "    <tr>\n",
       "      <th>1899</th>\n",
       "      <td>851224888060895234</td>\n",
       "      <td>standard_poodle</td>\n",
       "      <td>0.005683</td>\n",
       "    </tr>\n",
       "    <tr>\n",
       "      <th>1942</th>\n",
       "      <td>861288531465048066</td>\n",
       "      <td>Bouvier_des_Flandres</td>\n",
       "      <td>0.082610</td>\n",
       "    </tr>\n",
       "    <tr>\n",
       "      <th>1944</th>\n",
       "      <td>861769973181624320</td>\n",
       "      <td>cocker_spaniel</td>\n",
       "      <td>0.046403</td>\n",
       "    </tr>\n",
       "    <tr>\n",
       "      <th>2026</th>\n",
       "      <td>882045870035918850</td>\n",
       "      <td>golden_retriever</td>\n",
       "      <td>0.006941</td>\n",
       "    </tr>\n",
       "  </tbody>\n",
       "</table>\n",
       "<p>1751 rows × 3 columns</p>\n",
       "</div>"
      ],
      "text/plain": [
       "                tweet_id             predictions  confidence\n",
       "0     666020888022790149  Welsh_springer_spaniel    0.465074\n",
       "1     666029285002620928                 redbone    0.506826\n",
       "2     666033412701032449         German_shepherd    0.596461\n",
       "3     666044226329800704     Rhodesian_ridgeback    0.408143\n",
       "4     666049248165822465      miniature_pinscher    0.560311\n",
       "...                  ...                     ...         ...\n",
       "1872  844979544864018432       Shetland_sheepdog    0.000132\n",
       "1899  851224888060895234         standard_poodle    0.005683\n",
       "1942  861288531465048066    Bouvier_des_Flandres    0.082610\n",
       "1944  861769973181624320          cocker_spaniel    0.046403\n",
       "2026  882045870035918850        golden_retriever    0.006941\n",
       "\n",
       "[1751 rows x 3 columns]"
      ]
     },
     "execution_count": 40,
     "metadata": {},
     "output_type": "execute_result"
    }
   ],
   "source": [
    "img_prediction_new"
   ]
  },
  {
   "cell_type": "markdown",
   "metadata": {},
   "source": [
    "# Tidiness 1"
   ]
  },
  {
   "cell_type": "markdown",
   "metadata": {},
   "source": [
    "**Define**\n",
    "\n",
    "Merging 3 datasets into one single dataset"
   ]
  },
  {
   "cell_type": "markdown",
   "metadata": {},
   "source": [
    "**Code**"
   ]
  },
  {
   "cell_type": "code",
   "execution_count": 41,
   "metadata": {},
   "outputs": [],
   "source": [
    "# Merge all three dfs on tweet_id \n",
    "twitter2 = pd.merge(twitter1, img_prediction_new,on='tweet_id', how='inner')\n",
    "twitter2 = pd.merge(twitter2, tweet_json1,on='tweet_id', how='inner')"
   ]
  },
  {
   "cell_type": "markdown",
   "metadata": {},
   "source": [
    "**Test**"
   ]
  },
  {
   "cell_type": "code",
   "execution_count": 42,
   "metadata": {},
   "outputs": [
    {
     "name": "stdout",
     "output_type": "stream",
     "text": [
      "<class 'pandas.core.frame.DataFrame'>\n",
      "Int64Index: 1644 entries, 0 to 1643\n",
      "Data columns (total 21 columns):\n",
      " #   Column                      Non-Null Count  Dtype         \n",
      "---  ------                      --------------  -----         \n",
      " 0   tweet_id                    1644 non-null   int64         \n",
      " 1   in_reply_to_status_id       0 non-null      float64       \n",
      " 2   in_reply_to_user_id         0 non-null      float64       \n",
      " 3   timestamp                   1644 non-null   datetime64[ns]\n",
      " 4   source                      1644 non-null   category      \n",
      " 5   text                        1644 non-null   object        \n",
      " 6   retweeted_status_id         0 non-null      float64       \n",
      " 7   retweeted_status_user_id    0 non-null      float64       \n",
      " 8   retweeted_status_timestamp  0 non-null      object        \n",
      " 9   expanded_urls               1644 non-null   object        \n",
      " 10  rating_numerator            1644 non-null   int64         \n",
      " 11  rating_denominator          1644 non-null   int64         \n",
      " 12  name                        1254 non-null   object        \n",
      " 13  doggo                       1644 non-null   object        \n",
      " 14  floofer                     1644 non-null   object        \n",
      " 15  pupper                      1644 non-null   object        \n",
      " 16  puppo                       1644 non-null   object        \n",
      " 17  predictions                 1644 non-null   object        \n",
      " 18  confidence                  1644 non-null   float64       \n",
      " 19  favorite_count              1644 non-null   int64         \n",
      " 20  retweet_count               1644 non-null   int64         \n",
      "dtypes: category(1), datetime64[ns](1), float64(5), int64(5), object(9)\n",
      "memory usage: 271.5+ KB\n"
     ]
    }
   ],
   "source": [
    "twitter2.info()"
   ]
  },
  {
   "cell_type": "code",
   "execution_count": 43,
   "metadata": {},
   "outputs": [
    {
     "data": {
      "text/html": [
       "<div>\n",
       "<style scoped>\n",
       "    .dataframe tbody tr th:only-of-type {\n",
       "        vertical-align: middle;\n",
       "    }\n",
       "\n",
       "    .dataframe tbody tr th {\n",
       "        vertical-align: top;\n",
       "    }\n",
       "\n",
       "    .dataframe thead th {\n",
       "        text-align: right;\n",
       "    }\n",
       "</style>\n",
       "<table border=\"1\" class=\"dataframe\">\n",
       "  <thead>\n",
       "    <tr style=\"text-align: right;\">\n",
       "      <th></th>\n",
       "      <th>tweet_id</th>\n",
       "      <th>in_reply_to_status_id</th>\n",
       "      <th>in_reply_to_user_id</th>\n",
       "      <th>timestamp</th>\n",
       "      <th>source</th>\n",
       "      <th>text</th>\n",
       "      <th>retweeted_status_id</th>\n",
       "      <th>retweeted_status_user_id</th>\n",
       "      <th>retweeted_status_timestamp</th>\n",
       "      <th>expanded_urls</th>\n",
       "      <th>...</th>\n",
       "      <th>rating_denominator</th>\n",
       "      <th>name</th>\n",
       "      <th>doggo</th>\n",
       "      <th>floofer</th>\n",
       "      <th>pupper</th>\n",
       "      <th>puppo</th>\n",
       "      <th>predictions</th>\n",
       "      <th>confidence</th>\n",
       "      <th>favorite_count</th>\n",
       "      <th>retweet_count</th>\n",
       "    </tr>\n",
       "  </thead>\n",
       "  <tbody>\n",
       "    <tr>\n",
       "      <th>291</th>\n",
       "      <td>819004803107983360</td>\n",
       "      <td>NaN</td>\n",
       "      <td>NaN</td>\n",
       "      <td>2017-01-11 02:15:36</td>\n",
       "      <td>Twitter for iPhone</td>\n",
       "      <td>This is Bo. He was a very good First Doggo. 14...</td>\n",
       "      <td>NaN</td>\n",
       "      <td>NaN</td>\n",
       "      <td>NaN</td>\n",
       "      <td>https://twitter.com/dog_rates/status/819004803...</td>\n",
       "      <td>...</td>\n",
       "      <td>10</td>\n",
       "      <td>Bo</td>\n",
       "      <td>doggo</td>\n",
       "      <td>None</td>\n",
       "      <td>None</td>\n",
       "      <td>None</td>\n",
       "      <td>standard_poodle</td>\n",
       "      <td>0.351308</td>\n",
       "      <td>85561</td>\n",
       "      <td>36126</td>\n",
       "    </tr>\n",
       "    <tr>\n",
       "      <th>1515</th>\n",
       "      <td>668960084974809088</td>\n",
       "      <td>NaN</td>\n",
       "      <td>NaN</td>\n",
       "      <td>2015-11-24 01:11:27</td>\n",
       "      <td>Twitter for iPhone</td>\n",
       "      <td>Meet Jaycob. He got scared of the vacuum. Hide...</td>\n",
       "      <td>NaN</td>\n",
       "      <td>NaN</td>\n",
       "      <td>NaN</td>\n",
       "      <td>https://twitter.com/dog_rates/status/668960084...</td>\n",
       "      <td>...</td>\n",
       "      <td>10</td>\n",
       "      <td>Jaycob</td>\n",
       "      <td>None</td>\n",
       "      <td>None</td>\n",
       "      <td>None</td>\n",
       "      <td>None</td>\n",
       "      <td>Chesapeake_Bay_retriever</td>\n",
       "      <td>0.165878</td>\n",
       "      <td>655</td>\n",
       "      <td>224</td>\n",
       "    </tr>\n",
       "    <tr>\n",
       "      <th>1286</th>\n",
       "      <td>675354435921575936</td>\n",
       "      <td>NaN</td>\n",
       "      <td>NaN</td>\n",
       "      <td>2015-12-11 16:40:19</td>\n",
       "      <td>Twitter Web Client</td>\n",
       "      <td>Everyone needs to watch this. 13/10 https://t....</td>\n",
       "      <td>NaN</td>\n",
       "      <td>NaN</td>\n",
       "      <td>NaN</td>\n",
       "      <td>https://twitter.com/dog_rates/status/675354435...</td>\n",
       "      <td>...</td>\n",
       "      <td>10</td>\n",
       "      <td>NaN</td>\n",
       "      <td>None</td>\n",
       "      <td>None</td>\n",
       "      <td>None</td>\n",
       "      <td>None</td>\n",
       "      <td>golden_retriever</td>\n",
       "      <td>0.181351</td>\n",
       "      <td>30590</td>\n",
       "      <td>15632</td>\n",
       "    </tr>\n",
       "  </tbody>\n",
       "</table>\n",
       "<p>3 rows × 21 columns</p>\n",
       "</div>"
      ],
      "text/plain": [
       "                tweet_id  in_reply_to_status_id  in_reply_to_user_id  \\\n",
       "291   819004803107983360                    NaN                  NaN   \n",
       "1515  668960084974809088                    NaN                  NaN   \n",
       "1286  675354435921575936                    NaN                  NaN   \n",
       "\n",
       "               timestamp              source  \\\n",
       "291  2017-01-11 02:15:36  Twitter for iPhone   \n",
       "1515 2015-11-24 01:11:27  Twitter for iPhone   \n",
       "1286 2015-12-11 16:40:19  Twitter Web Client   \n",
       "\n",
       "                                                   text  retweeted_status_id  \\\n",
       "291   This is Bo. He was a very good First Doggo. 14...                  NaN   \n",
       "1515  Meet Jaycob. He got scared of the vacuum. Hide...                  NaN   \n",
       "1286  Everyone needs to watch this. 13/10 https://t....                  NaN   \n",
       "\n",
       "      retweeted_status_user_id retweeted_status_timestamp  \\\n",
       "291                        NaN                        NaN   \n",
       "1515                       NaN                        NaN   \n",
       "1286                       NaN                        NaN   \n",
       "\n",
       "                                          expanded_urls  ...  \\\n",
       "291   https://twitter.com/dog_rates/status/819004803...  ...   \n",
       "1515  https://twitter.com/dog_rates/status/668960084...  ...   \n",
       "1286  https://twitter.com/dog_rates/status/675354435...  ...   \n",
       "\n",
       "      rating_denominator    name  doggo floofer pupper puppo  \\\n",
       "291                   10      Bo  doggo    None   None  None   \n",
       "1515                  10  Jaycob   None    None   None  None   \n",
       "1286                  10     NaN   None    None   None  None   \n",
       "\n",
       "                   predictions confidence  favorite_count  retweet_count  \n",
       "291            standard_poodle   0.351308           85561          36126  \n",
       "1515  Chesapeake_Bay_retriever   0.165878             655            224  \n",
       "1286          golden_retriever   0.181351           30590          15632  \n",
       "\n",
       "[3 rows x 21 columns]"
      ]
     },
     "execution_count": 43,
     "metadata": {},
     "output_type": "execute_result"
    }
   ],
   "source": [
    "twitter2.sample(3)"
   ]
  },
  {
   "cell_type": "markdown",
   "metadata": {},
   "source": [
    "# Tidiness 2"
   ]
  },
  {
   "cell_type": "markdown",
   "metadata": {},
   "source": [
    "**Define**\n",
    "\n",
    "Replace None with Nan in doggo, floofer, pupper and puppo columns and combined into 1 column"
   ]
  },
  {
   "cell_type": "markdown",
   "metadata": {},
   "source": [
    "**Code**\n"
   ]
  },
  {
   "cell_type": "code",
   "execution_count": 44,
   "metadata": {},
   "outputs": [
    {
     "data": {
      "text/plain": [
       "None     1581\n",
       "doggo      62\n",
       "Name: doggo, dtype: int64"
      ]
     },
     "execution_count": 44,
     "metadata": {},
     "output_type": "execute_result"
    }
   ],
   "source": [
    "twitter2['doggo'].value_counts()"
   ]
  },
  {
   "cell_type": "code",
   "execution_count": 46,
   "metadata": {},
   "outputs": [
    {
     "data": {
      "text/plain": [
       "                1389\n",
       "pupper           165\n",
       "doggo             53\n",
       "puppo             21\n",
       "doggopupper        7\n",
       "floofer            7\n",
       "doggofloofer       1\n",
       "doggopuppo         1\n",
       "Name: dogo_stage, dtype: int64"
      ]
     },
     "execution_count": 46,
     "metadata": {},
     "output_type": "execute_result"
    }
   ],
   "source": [
    "twitter2['doggo'].replace('None', '', inplace = True)\n",
    "twitter2['floofer'].replace('None', '', inplace = True)\n",
    "twitter2['pupper'].replace('None', '', inplace = True)\n",
    "twitter2['puppo'].replace('None', '', inplace = True)\n",
    "\n",
    "twitter2['dogo_stage'] = twitter2['doggo'] + twitter2['floofer'] + twitter2['pupper'] + twitter2['puppo']\n",
    "\n",
    "twitter2['dogo_stage'].value_counts()"
   ]
  },
  {
   "cell_type": "code",
   "execution_count": 48,
   "metadata": {},
   "outputs": [],
   "source": [
    "twitter2.loc[twitter2['dogo_stage']=='doggopupper','dogo_stage']='Doggo, Pupper'\n",
    "twitter2.loc[twitter2['dogo_stage']=='doggofloofer','dogo_stage']='Doggo, Flooder'\n",
    "twitter2.loc[twitter2['dogo_stage']=='doggopuppo','dogo_stage']='Doggo, Puppo'"
   ]
  },
  {
   "cell_type": "code",
   "execution_count": 50,
   "metadata": {},
   "outputs": [
    {
     "data": {
      "text/plain": [
       "Unknown           1389\n",
       "pupper             165\n",
       "doggo               53\n",
       "puppo               21\n",
       "floofer              7\n",
       "Doggo, Pupper        7\n",
       "Doggo, Puppo         1\n",
       "Doggo, Flooder       1\n",
       "Name: dogo_stage, dtype: int64"
      ]
     },
     "execution_count": 50,
     "metadata": {},
     "output_type": "execute_result"
    }
   ],
   "source": [
    "twitter2['dogo_stage'].replace('','Unknown', inplace=True)\n",
    "twitter2['dogo_stage'].value_counts()"
   ]
  },
  {
   "cell_type": "code",
   "execution_count": 51,
   "metadata": {},
   "outputs": [],
   "source": [
    "twitter2['dogo_stage'] = twitter2['dogo_stage'].astype('category')"
   ]
  },
  {
   "cell_type": "markdown",
   "metadata": {},
   "source": [
    "**Test**"
   ]
  },
  {
   "cell_type": "code",
   "execution_count": 53,
   "metadata": {},
   "outputs": [
    {
     "data": {
      "text/plain": [
       "Unknown           1389\n",
       "pupper             165\n",
       "doggo               53\n",
       "puppo               21\n",
       "floofer              7\n",
       "Doggo, Pupper        7\n",
       "Doggo, Puppo         1\n",
       "Doggo, Flooder       1\n",
       "Name: dogo_stage, dtype: int64"
      ]
     },
     "execution_count": 53,
     "metadata": {},
     "output_type": "execute_result"
    }
   ],
   "source": [
    "twitter2['dogo_stage'].value_counts()"
   ]
  },
  {
   "cell_type": "markdown",
   "metadata": {},
   "source": [
    "# Tidiness 3"
   ]
  },
  {
   "cell_type": "markdown",
   "metadata": {},
   "source": [
    "**Define**\n",
    "\n",
    "Dropping unnecessary columns: retweeted_status_id, retweeted_status_user_id, retweeted_status_timestamp,in_reply_to_status_id,in_reply_to_user_id , doggo , floofer, pupper, puppo"
   ]
  },
  {
   "cell_type": "code",
   "execution_count": 54,
   "metadata": {},
   "outputs": [
    {
     "name": "stdout",
     "output_type": "stream",
     "text": [
      "<class 'pandas.core.frame.DataFrame'>\n",
      "Int64Index: 1644 entries, 0 to 1643\n",
      "Data columns (total 22 columns):\n",
      " #   Column                      Non-Null Count  Dtype         \n",
      "---  ------                      --------------  -----         \n",
      " 0   tweet_id                    1644 non-null   int64         \n",
      " 1   in_reply_to_status_id       0 non-null      float64       \n",
      " 2   in_reply_to_user_id         0 non-null      float64       \n",
      " 3   timestamp                   1644 non-null   datetime64[ns]\n",
      " 4   source                      1644 non-null   category      \n",
      " 5   text                        1644 non-null   object        \n",
      " 6   retweeted_status_id         0 non-null      float64       \n",
      " 7   retweeted_status_user_id    0 non-null      float64       \n",
      " 8   retweeted_status_timestamp  0 non-null      object        \n",
      " 9   expanded_urls               1644 non-null   object        \n",
      " 10  rating_numerator            1644 non-null   int64         \n",
      " 11  rating_denominator          1644 non-null   int64         \n",
      " 12  name                        1254 non-null   object        \n",
      " 13  doggo                       1644 non-null   object        \n",
      " 14  floofer                     1644 non-null   object        \n",
      " 15  pupper                      1644 non-null   object        \n",
      " 16  puppo                       1644 non-null   object        \n",
      " 17  predictions                 1644 non-null   object        \n",
      " 18  confidence                  1644 non-null   float64       \n",
      " 19  favorite_count              1644 non-null   int64         \n",
      " 20  retweet_count               1644 non-null   int64         \n",
      " 21  dogo_stage                  1644 non-null   category      \n",
      "dtypes: category(2), datetime64[ns](1), float64(5), int64(5), object(9)\n",
      "memory usage: 273.5+ KB\n"
     ]
    }
   ],
   "source": [
    "twitter2.info()"
   ]
  },
  {
   "cell_type": "markdown",
   "metadata": {},
   "source": [
    "**Code**"
   ]
  },
  {
   "cell_type": "code",
   "execution_count": 55,
   "metadata": {},
   "outputs": [],
   "source": [
    "twitter2 = twitter2.drop(['retweeted_status_id',\n",
    "                                    'retweeted_status_user_id',\n",
    "                                    'retweeted_status_timestamp',\n",
    "                                    'in_reply_to_status_id',\n",
    "                                   'in_reply_to_user_id','doggo','floofer',\n",
    "                         'pupper','puppo'], axis = 1)"
   ]
  },
  {
   "cell_type": "markdown",
   "metadata": {},
   "source": [
    "**Test**"
   ]
  },
  {
   "cell_type": "code",
   "execution_count": 56,
   "metadata": {},
   "outputs": [
    {
     "name": "stdout",
     "output_type": "stream",
     "text": [
      "<class 'pandas.core.frame.DataFrame'>\n",
      "Int64Index: 1644 entries, 0 to 1643\n",
      "Data columns (total 13 columns):\n",
      " #   Column              Non-Null Count  Dtype         \n",
      "---  ------              --------------  -----         \n",
      " 0   tweet_id            1644 non-null   int64         \n",
      " 1   timestamp           1644 non-null   datetime64[ns]\n",
      " 2   source              1644 non-null   category      \n",
      " 3   text                1644 non-null   object        \n",
      " 4   expanded_urls       1644 non-null   object        \n",
      " 5   rating_numerator    1644 non-null   int64         \n",
      " 6   rating_denominator  1644 non-null   int64         \n",
      " 7   name                1254 non-null   object        \n",
      " 8   predictions         1644 non-null   object        \n",
      " 9   confidence          1644 non-null   float64       \n",
      " 10  favorite_count      1644 non-null   int64         \n",
      " 11  retweet_count       1644 non-null   int64         \n",
      " 12  dogo_stage          1644 non-null   category      \n",
      "dtypes: category(2), datetime64[ns](1), float64(1), int64(5), object(4)\n",
      "memory usage: 157.9+ KB\n"
     ]
    }
   ],
   "source": [
    "twitter2.info()"
   ]
  },
  {
   "cell_type": "code",
   "execution_count": 57,
   "metadata": {},
   "outputs": [],
   "source": [
    "twitter2.to_csv('twitter_archive_master',index=False)\n"
   ]
  },
  {
   "cell_type": "markdown",
   "metadata": {},
   "source": [
    "# **Analysis**"
   ]
  },
  {
   "cell_type": "markdown",
   "metadata": {},
   "source": [
    "- Majority of source?\n",
    "-  Is favorite count correlated with retweet count?\n",
    "- Top 3 most favourite tweet  \n",
    "- What is the number of tweet trend over time? "
   ]
  },
  {
   "cell_type": "code",
   "execution_count": 61,
   "metadata": {},
   "outputs": [
    {
     "name": "stdout",
     "output_type": "stream",
     "text": [
      "<class 'pandas.core.frame.DataFrame'>\n",
      "RangeIndex: 1644 entries, 0 to 1643\n",
      "Data columns (total 13 columns):\n",
      " #   Column              Non-Null Count  Dtype  \n",
      "---  ------              --------------  -----  \n",
      " 0   tweet_id            1644 non-null   int64  \n",
      " 1   timestamp           1644 non-null   object \n",
      " 2   source              1644 non-null   object \n",
      " 3   text                1644 non-null   object \n",
      " 4   expanded_urls       1644 non-null   object \n",
      " 5   rating_numerator    1644 non-null   int64  \n",
      " 6   rating_denominator  1644 non-null   int64  \n",
      " 7   name                1254 non-null   object \n",
      " 8   predictions         1644 non-null   object \n",
      " 9   confidence          1644 non-null   float64\n",
      " 10  favorite_count      1644 non-null   int64  \n",
      " 11  retweet_count       1644 non-null   int64  \n",
      " 12  dogo_stage          1644 non-null   object \n",
      "dtypes: float64(1), int64(5), object(7)\n",
      "memory usage: 167.1+ KB\n"
     ]
    }
   ],
   "source": [
    "df1= pd.read_csv('twitter_archive_master')\n"
   ]
  },
  {
   "cell_type": "code",
   "execution_count": 63,
   "metadata": {},
   "outputs": [
    {
     "name": "stdout",
     "output_type": "stream",
     "text": [
      "<class 'pandas.core.frame.DataFrame'>\n",
      "RangeIndex: 1644 entries, 0 to 1643\n",
      "Data columns (total 13 columns):\n",
      " #   Column              Non-Null Count  Dtype         \n",
      "---  ------              --------------  -----         \n",
      " 0   tweet_id            1644 non-null   int64         \n",
      " 1   timestamp           1644 non-null   datetime64[ns]\n",
      " 2   source              1644 non-null   object        \n",
      " 3   text                1644 non-null   object        \n",
      " 4   expanded_urls       1644 non-null   object        \n",
      " 5   rating_numerator    1644 non-null   int64         \n",
      " 6   rating_denominator  1644 non-null   int64         \n",
      " 7   name                1254 non-null   object        \n",
      " 8   predictions         1644 non-null   object        \n",
      " 9   confidence          1644 non-null   float64       \n",
      " 10  favorite_count      1644 non-null   int64         \n",
      " 11  retweet_count       1644 non-null   int64         \n",
      " 12  dogo_stage          1644 non-null   object        \n",
      "dtypes: datetime64[ns](1), float64(1), int64(5), object(6)\n",
      "memory usage: 167.1+ KB\n"
     ]
    }
   ],
   "source": [
    "df1.info()"
   ]
  },
  {
   "cell_type": "markdown",
   "metadata": {},
   "source": [
    "# Insight 1: Distribution of Sources"
   ]
  },
  {
   "cell_type": "code",
   "execution_count": 64,
   "metadata": {},
   "outputs": [
    {
     "data": {
      "image/png": "[encoded data removed]",
      "text/plain": [
       "<Figure size 720x720 with 2 Axes>"
      ]
     },
     "metadata": {
      "needs_background": "light"
     },
     "output_type": "display_data"
    }
   ],
   "source": [
    "plt.figure(figsize=(10,10))\n",
    "\n",
    "plt.subplot(2,2,1)\n",
    "sns.countplot(data=df1, y='source', palette=['#ADD8E6','#009ACD','#63D1F4'])\n",
    "plt.ylabel('Source')\n",
    "plt.xlabel('Count')\n",
    "plt.title(\"Twitter Source\", fontsize=13,fontweight='bold');\n",
    "\n",
    "plt.subplot(2,2,2)\n",
    "source_=df1['source'].value_counts()\n",
    "plt.rcParams['font.family'] = \"sans-serif\"\n",
    "color_palette_list = ['#009ACD', '#ADD8E6', '#63D1F4']\n",
    "label = ['iPhone','Web Client','Tweetdeck']\n",
    "plt.pie(source_,labels=label,radius=1,autopct='%0.1f%%',shadow=False,explode=[0,0.5,1],colors=color_palette_list)\n",
    "plt.axis('equal')\n",
    "plt.title('Ratio of Twitter Source',fontsize=13,fontweight='bold')\n",
    "plt.legend()\n",
    "plt.show()\n"
   ]
  },
  {
   "cell_type": "markdown",
   "metadata": {},
   "source": [
    "Majority source of tweets are from iPhone twitter app, which representing 98.2% in the total. That means most of user prefer using twitter mobile app as the main channel for people using to tweet, retweet, post, and others, while the  Web CLient and TweetDeck pretty rare which are 1.3 and 0.5 respectively \n"
   ]
  },
  {
   "cell_type": "markdown",
   "metadata": {},
   "source": [
    "# Insight 2: Is favorite count correlated with retweet count?"
   ]
  },
  {
   "cell_type": "code",
   "execution_count": 65,
   "metadata": {},
   "outputs": [
    {
     "data": {
      "text/plain": [
       "Text(0, 0.5, 'Favourite count')"
      ]
     },
     "execution_count": 65,
     "metadata": {},
     "output_type": "execute_result"
    },
    {
     "data": {
      "image/png": "[encoded data removed]",
      "text/plain": [
       "<Figure size 800x320 with 1 Axes>"
      ]
     },
     "metadata": {
      "needs_background": "light"
     },
     "output_type": "display_data"
    }
   ],
   "source": [
    "plt.figure(figsize=(10, 4), dpi=80)\n",
    "sns.set_style('darkgrid')\n",
    "sns.scatterplot(data=df1, x=\"retweet_count\", y=\"favorite_count\",alpha=0.5);\n",
    "plt.title('Favourite count VS Retweet count',fontsize=15,fontweight='bold')\n",
    "plt.xlabel('Retweet count')\n",
    "plt.ylabel('Favourite count')"
   ]
  },
  {
   "cell_type": "markdown",
   "metadata": {},
   "source": [
    "# Insight 3: Top 3 most favourite dog tweets\n"
   ]
  },
  {
   "cell_type": "code",
   "execution_count": 72,
   "metadata": {},
   "outputs": [],
   "source": [
    "from IPython.display import Image\n",
    "#pd.set_option('display.max_colwidth',-1)"
   ]
  },
  {
   "cell_type": "code",
   "execution_count": 73,
   "metadata": {},
   "outputs": [],
   "source": [
    "df2=df1.sort_values(['favorite_count'], ascending =False ).head(3)\n"
   ]
  },
  {
   "cell_type": "code",
   "execution_count": 74,
   "metadata": {},
   "outputs": [
    {
     "name": "stdout",
     "output_type": "stream",
     "text": [
      "<class 'pandas.core.frame.DataFrame'>\n",
      "Int64Index: 3 entries, 675 to 354\n",
      "Data columns (total 13 columns):\n",
      " #   Column              Non-Null Count  Dtype         \n",
      "---  ------              --------------  -----         \n",
      " 0   tweet_id            3 non-null      int64         \n",
      " 1   timestamp           3 non-null      datetime64[ns]\n",
      " 2   source              3 non-null      object        \n",
      " 3   text                3 non-null      object        \n",
      " 4   expanded_urls       3 non-null      object        \n",
      " 5   rating_numerator    3 non-null      int64         \n",
      " 6   rating_denominator  3 non-null      int64         \n",
      " 7   name                1 non-null      object        \n",
      " 8   predictions         3 non-null      object        \n",
      " 9   confidence          3 non-null      float64       \n",
      " 10  favorite_count      3 non-null      int64         \n",
      " 11  retweet_count       3 non-null      int64         \n",
      " 12  dogo_stage          3 non-null      object        \n",
      "dtypes: datetime64[ns](1), float64(1), int64(5), object(6)\n",
      "memory usage: 336.0+ bytes\n"
     ]
    }
   ],
   "source": [
    "df2.info()"
   ]
  },
  {
   "cell_type": "code",
   "execution_count": 75,
   "metadata": {},
   "outputs": [
    {
     "data": {
      "text/html": [
       "<div>\n",
       "<style scoped>\n",
       "    .dataframe tbody tr th:only-of-type {\n",
       "        vertical-align: middle;\n",
       "    }\n",
       "\n",
       "    .dataframe tbody tr th {\n",
       "        vertical-align: top;\n",
       "    }\n",
       "\n",
       "    .dataframe thead th {\n",
       "        text-align: right;\n",
       "    }\n",
       "</style>\n",
       "<table border=\"1\" class=\"dataframe\">\n",
       "  <thead>\n",
       "    <tr style=\"text-align: right;\">\n",
       "      <th></th>\n",
       "      <th>rating_numerator</th>\n",
       "      <th>predictions</th>\n",
       "      <th>tweet_id</th>\n",
       "      <th>expanded_urls</th>\n",
       "    </tr>\n",
       "  </thead>\n",
       "  <tbody>\n",
       "    <tr>\n",
       "      <th>675</th>\n",
       "      <td>13</td>\n",
       "      <td>Labrador_retriever</td>\n",
       "      <td>744234799360020481</td>\n",
       "      <td>https://twitter.com/dog_rates/status/744234799360020481/video/1</td>\n",
       "    </tr>\n",
       "    <tr>\n",
       "      <th>271</th>\n",
       "      <td>13</td>\n",
       "      <td>Lakeland_terrier</td>\n",
       "      <td>822872901745569793</td>\n",
       "      <td>https://twitter.com/dog_rates/status/822872901745569793/photo/1</td>\n",
       "    </tr>\n",
       "    <tr>\n",
       "      <th>354</th>\n",
       "      <td>13</td>\n",
       "      <td>Chihuahua</td>\n",
       "      <td>807106840509214720</td>\n",
       "      <td>https://twitter.com/dog_rates/status/807106840509214720/video/1</td>\n",
       "    </tr>\n",
       "  </tbody>\n",
       "</table>\n",
       "</div>"
      ],
      "text/plain": [
       "     rating_numerator         predictions            tweet_id  \\\n",
       "675  13                Labrador_retriever  744234799360020481   \n",
       "271  13                Lakeland_terrier    822872901745569793   \n",
       "354  13                Chihuahua           807106840509214720   \n",
       "\n",
       "                                                       expanded_urls  \n",
       "675  https://twitter.com/dog_rates/status/744234799360020481/video/1  \n",
       "271  https://twitter.com/dog_rates/status/822872901745569793/photo/1  \n",
       "354  https://twitter.com/dog_rates/status/807106840509214720/video/1  "
      ]
     },
     "execution_count": 75,
     "metadata": {},
     "output_type": "execute_result"
    }
   ],
   "source": [
    "#pd.set_option('display.max_colwidth', -1)\n",
    "df2[['rating_numerator','predictions','tweet_id','expanded_urls']]"
   ]
  },
  {
   "cell_type": "code",
   "execution_count": 20,
   "metadata": {},
   "outputs": [
    {
     "name": "stdout",
     "output_type": "stream",
     "text": [
      "Top 1 most favourite tweet: 675    Here's a doggo realizing you can stand in a pool. 13/10 enlightened af (vid by Tina Conrad) https://t.co/7wE9LTEXC4\n",
      "Name: text, dtype: object\n"
     ]
    },
    {
     "data": {
      "text/html": [
       "<img src=\"https://pbs.twimg.com/ext_tw_video_thumb/744234667679821824/pu/img/1GaWmtJtdqzZV7jy.jpg\" width=\"200\" height=\"100\"/>"
      ],
      "text/plain": [
       "<IPython.core.display.Image object>"
      ]
     },
     "execution_count": 20,
     "metadata": {},
     "output_type": "execute_result"
    }
   ],
   "source": [
    "print('Top 1 most favourite tweet:',df1.loc[df1['tweet_id']==744234799360020481]['text'])\n",
    "Image(url='https://pbs.twimg.com/ext_tw_video_thumb/744234667679821824/pu/img/1GaWmtJtdqzZV7jy.jpg', width=200, height=100)"
   ]
  },
  {
   "cell_type": "code",
   "execution_count": 76,
   "metadata": {},
   "outputs": [
    {
     "name": "stdout",
     "output_type": "stream",
     "text": [
      "Top 2 most favourite tweet: 271    Here's a super supportive puppo participating in the Toronto  #WomensMarch today. 13/10 https://t.co/nTz3FtorBc\n",
      "Name: text, dtype: object\n"
     ]
    },
    {
     "data": {
      "text/html": [
       "<img src=\"https://pbs.twimg.com/media/C2tugXLXgAArJO4.jpg\" width=\"400\" height=\"200\"/>"
      ],
      "text/plain": [
       "<IPython.core.display.Image object>"
      ]
     },
     "execution_count": 76,
     "metadata": {},
     "output_type": "execute_result"
    }
   ],
   "source": [
    "print('Top 2 most favourite tweet:',df1.loc[df1['tweet_id']==822872901745569793]['text'])\n",
    "Image(url='https://pbs.twimg.com/media/C2tugXLXgAArJO4.jpg', width=400, height=200)"
   ]
  },
  {
   "cell_type": "code",
   "execution_count": 77,
   "metadata": {},
   "outputs": [
    {
     "name": "stdout",
     "output_type": "stream",
     "text": [
      "3rd most favourite tweet: 354    This is Stephan. He just wants to help. 13/10 such a good boy https://t.co/DkBYaCAg2d\n",
      "Name: text, dtype: object\n"
     ]
    },
    {
     "data": {
      "text/html": [
       "<img src=\"https://pbs.twimg.com/ext_tw_video_thumb/807106774843039744/pu/img/8XZg1xW35Xp2J6JW.jpg\" width=\"200\" height=\"200\"/>"
      ],
      "text/plain": [
       "<IPython.core.display.Image object>"
      ]
     },
     "execution_count": 77,
     "metadata": {},
     "output_type": "execute_result"
    }
   ],
   "source": [
    "print('3rd most favourite tweet:',df1.loc[df1['tweet_id']==807106840509214720]['text'])\n",
    "Image(url='https://pbs.twimg.com/ext_tw_video_thumb/807106774843039744/pu/img/8XZg1xW35Xp2J6JW.jpg', width=200, height=200)"
   ]
  },
  {
   "cell_type": "markdown",
   "metadata": {},
   "source": [
    "# Insight 4: Top 10 popular dog breeds"
   ]
  },
  {
   "cell_type": "code",
   "execution_count": 78,
   "metadata": {},
   "outputs": [
    {
     "data": {
      "text/plain": [
       "predictions\n",
       "golden_retriever      1742408\n",
       "Labrador_retriever    1075267\n",
       "Pembroke              939464 \n",
       "Chihuahua             694052 \n",
       "French_bulldog        545614 \n",
       "Samoyed               500312 \n",
       "chow                  401828 \n",
       "cocker_spaniel        366420 \n",
       "pug                   338671 \n",
       "malamute              316559 \n",
       "Name: favorite_count, dtype: int64"
      ]
     },
     "execution_count": 78,
     "metadata": {},
     "output_type": "execute_result"
    }
   ],
   "source": [
    "df3=df1.groupby('predictions')['favorite_count'].sum()\n",
    "df3=df3.sort_values(ascending=False).head(10)\n",
    "df3"
   ]
  },
  {
   "cell_type": "code",
   "execution_count": 79,
   "metadata": {},
   "outputs": [
    {
     "data": {
      "image/png": "[encoded data removed]",
      "text/plain": [
       "<Figure size 936x288 with 1 Axes>"
      ]
     },
     "metadata": {},
     "output_type": "display_data"
    }
   ],
   "source": [
    "plt.figure(figsize=(13,4))\n",
    "sns.barplot(y='predictions',x='favorite_count', data=df3.reset_index(),palette='mako');\n",
    "plt.xlabel('Favorite count',fontsize=13)\n",
    "plt.ylabel('Dog Breed',fontsize=13)\n",
    "plt.title('Top 10 most popular dog breeds',fontsize=15,fontweight='bold')\n",
    "plt.ticklabel_format(style='plain', axis='x')"
   ]
  },
  {
   "cell_type": "markdown",
   "metadata": {},
   "source": [
    "# Insight 4: Number of tweets, retweet and favorite per month"
   ]
  },
  {
   "cell_type": "code",
   "execution_count": 80,
   "metadata": {},
   "outputs": [
    {
     "data": {
      "text/html": [
       "<div>\n",
       "<style scoped>\n",
       "    .dataframe tbody tr th:only-of-type {\n",
       "        vertical-align: middle;\n",
       "    }\n",
       "\n",
       "    .dataframe tbody tr th {\n",
       "        vertical-align: top;\n",
       "    }\n",
       "\n",
       "    .dataframe thead th {\n",
       "        text-align: right;\n",
       "    }\n",
       "</style>\n",
       "<table border=\"1\" class=\"dataframe\">\n",
       "  <thead>\n",
       "    <tr style=\"text-align: right;\">\n",
       "      <th></th>\n",
       "      <th>tweets</th>\n",
       "      <th>retweet_sum</th>\n",
       "      <th>favorite_sum</th>\n",
       "      <th>month</th>\n",
       "    </tr>\n",
       "  </thead>\n",
       "  <tbody>\n",
       "    <tr>\n",
       "      <th>0</th>\n",
       "      <td>225</td>\n",
       "      <td>90511</td>\n",
       "      <td>233185</td>\n",
       "      <td>2015-11</td>\n",
       "    </tr>\n",
       "    <tr>\n",
       "      <th>1</th>\n",
       "      <td>279</td>\n",
       "      <td>376603</td>\n",
       "      <td>934947</td>\n",
       "      <td>2015-12</td>\n",
       "    </tr>\n",
       "    <tr>\n",
       "      <th>2</th>\n",
       "      <td>137</td>\n",
       "      <td>165860</td>\n",
       "      <td>468836</td>\n",
       "      <td>2016-01</td>\n",
       "    </tr>\n",
       "    <tr>\n",
       "      <th>3</th>\n",
       "      <td>91</td>\n",
       "      <td>108503</td>\n",
       "      <td>318140</td>\n",
       "      <td>2016-02</td>\n",
       "    </tr>\n",
       "    <tr>\n",
       "      <th>4</th>\n",
       "      <td>102</td>\n",
       "      <td>134087</td>\n",
       "      <td>405487</td>\n",
       "      <td>2016-03</td>\n",
       "    </tr>\n",
       "    <tr>\n",
       "      <th>5</th>\n",
       "      <td>49</td>\n",
       "      <td>68827</td>\n",
       "      <td>212027</td>\n",
       "      <td>2016-04</td>\n",
       "    </tr>\n",
       "    <tr>\n",
       "      <th>6</th>\n",
       "      <td>48</td>\n",
       "      <td>87763</td>\n",
       "      <td>268884</td>\n",
       "      <td>2016-05</td>\n",
       "    </tr>\n",
       "    <tr>\n",
       "      <th>7</th>\n",
       "      <td>68</td>\n",
       "      <td>275799</td>\n",
       "      <td>694163</td>\n",
       "      <td>2016-06</td>\n",
       "    </tr>\n",
       "    <tr>\n",
       "      <th>8</th>\n",
       "      <td>76</td>\n",
       "      <td>162216</td>\n",
       "      <td>483399</td>\n",
       "      <td>2016-07</td>\n",
       "    </tr>\n",
       "    <tr>\n",
       "      <th>9</th>\n",
       "      <td>47</td>\n",
       "      <td>121940</td>\n",
       "      <td>398952</td>\n",
       "      <td>2016-08</td>\n",
       "    </tr>\n",
       "    <tr>\n",
       "      <th>10</th>\n",
       "      <td>55</td>\n",
       "      <td>163580</td>\n",
       "      <td>537182</td>\n",
       "      <td>2016-09</td>\n",
       "    </tr>\n",
       "    <tr>\n",
       "      <th>11</th>\n",
       "      <td>59</td>\n",
       "      <td>207501</td>\n",
       "      <td>681166</td>\n",
       "      <td>2016-10</td>\n",
       "    </tr>\n",
       "    <tr>\n",
       "      <th>12</th>\n",
       "      <td>44</td>\n",
       "      <td>167701</td>\n",
       "      <td>547914</td>\n",
       "      <td>2016-11</td>\n",
       "    </tr>\n",
       "    <tr>\n",
       "      <th>13</th>\n",
       "      <td>51</td>\n",
       "      <td>249024</td>\n",
       "      <td>783557</td>\n",
       "      <td>2016-12</td>\n",
       "    </tr>\n",
       "    <tr>\n",
       "      <th>14</th>\n",
       "      <td>58</td>\n",
       "      <td>310137</td>\n",
       "      <td>1018624</td>\n",
       "      <td>2017-01</td>\n",
       "    </tr>\n",
       "    <tr>\n",
       "      <th>15</th>\n",
       "      <td>59</td>\n",
       "      <td>219927</td>\n",
       "      <td>987252</td>\n",
       "      <td>2017-02</td>\n",
       "    </tr>\n",
       "    <tr>\n",
       "      <th>16</th>\n",
       "      <td>41</td>\n",
       "      <td>169707</td>\n",
       "      <td>754245</td>\n",
       "      <td>2017-03</td>\n",
       "    </tr>\n",
       "    <tr>\n",
       "      <th>17</th>\n",
       "      <td>33</td>\n",
       "      <td>160033</td>\n",
       "      <td>678642</td>\n",
       "      <td>2017-04</td>\n",
       "    </tr>\n",
       "    <tr>\n",
       "      <th>18</th>\n",
       "      <td>35</td>\n",
       "      <td>236955</td>\n",
       "      <td>974490</td>\n",
       "      <td>2017-05</td>\n",
       "    </tr>\n",
       "    <tr>\n",
       "      <th>19</th>\n",
       "      <td>40</td>\n",
       "      <td>228360</td>\n",
       "      <td>1056072</td>\n",
       "      <td>2017-06</td>\n",
       "    </tr>\n",
       "    <tr>\n",
       "      <th>20</th>\n",
       "      <td>46</td>\n",
       "      <td>268996</td>\n",
       "      <td>1334345</td>\n",
       "      <td>2017-07</td>\n",
       "    </tr>\n",
       "    <tr>\n",
       "      <th>21</th>\n",
       "      <td>1</td>\n",
       "      <td>5494</td>\n",
       "      <td>30365</td>\n",
       "      <td>2017-08</td>\n",
       "    </tr>\n",
       "  </tbody>\n",
       "</table>\n",
       "</div>"
      ],
      "text/plain": [
       "    tweets  retweet_sum  favorite_sum    month\n",
       "0   225     90511        233185        2015-11\n",
       "1   279     376603       934947        2015-12\n",
       "2   137     165860       468836        2016-01\n",
       "3   91      108503       318140        2016-02\n",
       "4   102     134087       405487        2016-03\n",
       "5   49      68827        212027        2016-04\n",
       "6   48      87763        268884        2016-05\n",
       "7   68      275799       694163        2016-06\n",
       "8   76      162216       483399        2016-07\n",
       "9   47      121940       398952        2016-08\n",
       "10  55      163580       537182        2016-09\n",
       "11  59      207501       681166        2016-10\n",
       "12  44      167701       547914        2016-11\n",
       "13  51      249024       783557        2016-12\n",
       "14  58      310137       1018624       2017-01\n",
       "15  59      219927       987252        2017-02\n",
       "16  41      169707       754245        2017-03\n",
       "17  33      160033       678642        2017-04\n",
       "18  35      236955       974490        2017-05\n",
       "19  40      228360       1056072       2017-06\n",
       "20  46      268996       1334345       2017-07\n",
       "21  1       5494         30365         2017-08"
      ]
     },
     "execution_count": 80,
     "metadata": {},
     "output_type": "execute_result"
    }
   ],
   "source": [
    "tweetsmonth = df1.groupby([df1.timestamp.dt.year, df1.timestamp.dt.month])\n",
    "tweetsmonth=tweetsmonth.agg({'tweet_id':'count', 'retweet_count': 'sum', 'favorite_count': 'sum'})\n",
    "tweetsmonth=tweetsmonth.rename(columns={'tweet_id':'tweets', 'retweet_count': 'retweet_sum', 'favorite_count': 'favorite_sum'})\n",
    "tweetsmonth=tweetsmonth.reset_index(drop=True)\n",
    "tweetsmonth['month'] = pd.date_range('2015-11-01','2017-08-01', freq='MS').strftime(\"%Y-%m\").tolist()\n",
    "\n",
    "\n",
    "tweetsmonth"
   ]
  },
  {
   "cell_type": "code",
   "execution_count": 81,
   "metadata": {},
   "outputs": [
    {
     "data": {
      "image/png": "[encoded data removed]",
      "text/plain": [
       "<Figure size 1080x360 with 2 Axes>"
      ]
     },
     "metadata": {},
     "output_type": "display_data"
    }
   ],
   "source": [
    "plt.figure(figsize=(15,5))\n",
    "\n",
    "plt.subplot(1,2,1)\n",
    "sns.lineplot(data=tweetsmonth, x=\"month\", y=\"tweets\");\n",
    "plt.title('Number of Tweets per Month', fontsize=15,fontweight='bold')\n",
    "plt.xlabel('Month',fontsize=13)\n",
    "plt.ylabel('Number of tweets',fontsize=13)\n",
    "plt.xticks(rotation=45);\n",
    "\n",
    "plt.subplot(1,2,2)\n",
    "sns.lineplot(data=tweetsmonth, x=\"month\", y=\"retweet_sum\",color='skyblue');\n",
    "sns.lineplot(data=tweetsmonth, x=\"month\", y=\"favorite_sum\",palette='set1');\n",
    "plt.legend(labels=['Retweet', 'Favorite'])\n",
    "plt.xlabel('Month',fontsize=13)\n",
    "plt.ylabel('Counts')\n",
    "plt.title('Sum of Favorite and Retweet per month',fontsize=15,fontweight='bold')\n",
    "plt.xticks(rotation=45);\n",
    "plt.show()\n",
    "\n",
    "\n"
   ]
  },
  {
   "cell_type": "code",
   "execution_count": null,
   "metadata": {},
   "outputs": [],
   "source": []
  },
  {
   "cell_type": "code",
   "execution_count": null,
   "metadata": {},
   "outputs": [],
   "source": []
  }
 ],
 "metadata": {
  "kernelspec": {
   "display_name": "Python 3",
   "language": "python",
   "name": "python3"
  },
  "language_info": {
   "codemirror_mode": {
    "name": "ipython",
    "version": 3
   },
   "file_extension": ".py",
   "mimetype": "text/x-python",
   "name": "python",
   "nbconvert_exporter": "python",
   "pygments_lexer": "ipython3",
   "version": "3.8.3"
  }
 },
 "nbformat": 4,
 "nbformat_minor": 4
}
